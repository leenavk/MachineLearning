{
 "cells": [
  {
   "cell_type": "code",
   "execution_count": 2,
   "metadata": {
    "executionInfo": {
     "elapsed": 425,
     "status": "ok",
     "timestamp": 1701826381645,
     "user": {
      "displayName": "Prashant Nair",
      "userId": "01567311054365266478"
     },
     "user_tz": -330
    },
    "id": "XwD2C48Lrc-E"
   },
   "outputs": [],
   "source": [
    "import pandas as pd\n",
    "import numpy as np"
   ]
  },
  {
   "cell_type": "code",
   "execution_count": 3,
   "metadata": {
    "executionInfo": {
     "elapsed": 695,
     "status": "ok",
     "timestamp": 1701826383009,
     "user": {
      "displayName": "Prashant Nair",
      "userId": "01567311054365266478"
     },
     "user_tz": -330
    },
    "id": "ndcIEY3frkMH"
   },
   "outputs": [],
   "source": [
    "data= pd.read_csv('https://gist.githubusercontent.com/curran/a08a1080b88344b0c8a7/raw/639388c2cbc2120a14dcf466e85730eb8be498bb/iris.csv')"
   ]
  },
  {
   "cell_type": "code",
   "execution_count": 4,
   "metadata": {
    "colab": {
     "base_uri": "https://localhost:8080/",
     "height": 206
    },
    "executionInfo": {
     "elapsed": 4,
     "status": "ok",
     "timestamp": 1701826383468,
     "user": {
      "displayName": "Prashant Nair",
      "userId": "01567311054365266478"
     },
     "user_tz": -330
    },
    "id": "NoxJiB0h2fth",
    "outputId": "d8efe334-16fc-4a16-92c7-48c5d14872a9"
   },
   "outputs": [
    {
     "data": {
      "text/html": [
       "<div>\n",
       "<style scoped>\n",
       "    .dataframe tbody tr th:only-of-type {\n",
       "        vertical-align: middle;\n",
       "    }\n",
       "\n",
       "    .dataframe tbody tr th {\n",
       "        vertical-align: top;\n",
       "    }\n",
       "\n",
       "    .dataframe thead th {\n",
       "        text-align: right;\n",
       "    }\n",
       "</style>\n",
       "<table border=\"1\" class=\"dataframe\">\n",
       "  <thead>\n",
       "    <tr style=\"text-align: right;\">\n",
       "      <th></th>\n",
       "      <th>sepal_length</th>\n",
       "      <th>sepal_width</th>\n",
       "      <th>petal_length</th>\n",
       "      <th>petal_width</th>\n",
       "      <th>species</th>\n",
       "    </tr>\n",
       "  </thead>\n",
       "  <tbody>\n",
       "    <tr>\n",
       "      <th>0</th>\n",
       "      <td>5.1</td>\n",
       "      <td>3.5</td>\n",
       "      <td>1.4</td>\n",
       "      <td>0.2</td>\n",
       "      <td>setosa</td>\n",
       "    </tr>\n",
       "    <tr>\n",
       "      <th>1</th>\n",
       "      <td>4.9</td>\n",
       "      <td>3.0</td>\n",
       "      <td>1.4</td>\n",
       "      <td>0.2</td>\n",
       "      <td>setosa</td>\n",
       "    </tr>\n",
       "    <tr>\n",
       "      <th>2</th>\n",
       "      <td>4.7</td>\n",
       "      <td>3.2</td>\n",
       "      <td>1.3</td>\n",
       "      <td>0.2</td>\n",
       "      <td>setosa</td>\n",
       "    </tr>\n",
       "    <tr>\n",
       "      <th>3</th>\n",
       "      <td>4.6</td>\n",
       "      <td>3.1</td>\n",
       "      <td>1.5</td>\n",
       "      <td>0.2</td>\n",
       "      <td>setosa</td>\n",
       "    </tr>\n",
       "    <tr>\n",
       "      <th>4</th>\n",
       "      <td>5.0</td>\n",
       "      <td>3.6</td>\n",
       "      <td>1.4</td>\n",
       "      <td>0.2</td>\n",
       "      <td>setosa</td>\n",
       "    </tr>\n",
       "  </tbody>\n",
       "</table>\n",
       "</div>"
      ],
      "text/plain": [
       "   sepal_length  sepal_width  petal_length  petal_width species\n",
       "0           5.1          3.5           1.4          0.2  setosa\n",
       "1           4.9          3.0           1.4          0.2  setosa\n",
       "2           4.7          3.2           1.3          0.2  setosa\n",
       "3           4.6          3.1           1.5          0.2  setosa\n",
       "4           5.0          3.6           1.4          0.2  setosa"
      ]
     },
     "execution_count": 4,
     "metadata": {},
     "output_type": "execute_result"
    }
   ],
   "source": [
    "data.head()"
   ]
  },
  {
   "cell_type": "code",
   "execution_count": 5,
   "metadata": {
    "executionInfo": {
     "elapsed": 2,
     "status": "ok",
     "timestamp": 1701826385678,
     "user": {
      "displayName": "Prashant Nair",
      "userId": "01567311054365266478"
     },
     "user_tz": -330
    },
    "id": "FE1a3G78rk2n"
   },
   "outputs": [],
   "source": [
    "features = data.iloc[:,:-1].values\n",
    "label = data.iloc[:,-1].values"
   ]
  },
  {
   "cell_type": "code",
   "execution_count": null,
   "metadata": {
    "id": "PYB3AJgGrrXv"
   },
   "outputs": [],
   "source": [
    "# Guideline\n",
    "# Cross-validation is applied on entire dataset (Pre-modelling | EDA)\n",
    "# 1. Get the score threshold/benchmark\n",
    "# 2. To understand the optimal score possible\n",
    "# 3. To extract the best training sample that may provide the optimal score"
   ]
  },
  {
   "cell_type": "code",
   "execution_count": null,
   "metadata": {
    "id": "jp7ZG1Tc2wCi"
   },
   "outputs": [],
   "source": [
    "#List of algos for Classification we learned till date\n",
    "# 1. LogisticRegression\n",
    "# 2. KNeighborsClassifier\n",
    "# 3. DecisionTreeClassifier\n",
    "# 4. RandomForestClassifier\n",
    "# 5. BaggingClassifier with LogisticRegression\n",
    "# 6. BaggingClassifier with KNeighborsClassifier\n",
    "# 7. BaggingClassifier with SVC\n",
    "# 8. SVC\n",
    "\n",
    "\n",
    "#Output in a Pandas DF\n",
    "# Algorithm | CV value | CL | SL | Optimal Score\n",
    "\n",
    "#CV=5 and CV=10"
   ]
  },
  {
   "cell_type": "code",
   "execution_count": 6,
   "metadata": {
    "executionInfo": {
     "elapsed": 1611,
     "status": "ok",
     "timestamp": 1701826429994,
     "user": {
      "displayName": "Prashant Nair",
      "userId": "01567311054365266478"
     },
     "user_tz": -330
    },
    "id": "NzLT-wl6sDUG"
   },
   "outputs": [],
   "source": [
    "import warnings\n",
    "warnings.filterwarnings(\"ignore\")\n",
    "\n",
    "from sklearn.linear_model import LogisticRegression\n",
    "from sklearn.model_selection import cross_val_score\n",
    "\n",
    "model = LogisticRegression()\n",
    "\n",
    "scores = cross_val_score(model,\n",
    "                         features,\n",
    "                         label,\n",
    "                         cv=5) #In Theory, CV value can be any natural number. However most used values are 5 and 10."
   ]
  },
  {
   "cell_type": "code",
   "execution_count": 7,
   "metadata": {
    "colab": {
     "base_uri": "https://localhost:8080/"
    },
    "executionInfo": {
     "elapsed": 2,
     "status": "ok",
     "timestamp": 1701826433070,
     "user": {
      "displayName": "Prashant Nair",
      "userId": "01567311054365266478"
     },
     "user_tz": -330
    },
    "id": "gMWoTy1AsmpP",
    "outputId": "d9d70f7f-b819-4c9a-d5e6-6e4f74ded4e8"
   },
   "outputs": [
    {
     "data": {
      "text/plain": [
       "array([0.96666667, 1.        , 0.93333333, 0.96666667, 1.        ])"
      ]
     },
     "execution_count": 7,
     "metadata": {},
     "output_type": "execute_result"
    }
   ],
   "source": [
    "scores"
   ]
  },
  {
   "cell_type": "code",
   "execution_count": null,
   "metadata": {
    "colab": {
     "base_uri": "https://localhost:8080/"
    },
    "executionInfo": {
     "elapsed": 616,
     "status": "ok",
     "timestamp": 1701742049043,
     "user": {
      "displayName": "Prashant Nair",
      "userId": "01567311054365266478"
     },
     "user_tz": -330
    },
    "id": "F7OTCzissnqm",
    "outputId": "b742c080-14b8-42be-8648-bb0d030da01e"
   },
   "outputs": [],
   "source": [
    "# Benchmark Score\n",
    "print(\"Minimum Threshold score (CL) : \", scores.mean())\n",
    "print(\"Suggested SL value for the given dataset is \", 1 - scores.mean())"
   ]
  },
  {
   "cell_type": "code",
   "execution_count": null,
   "metadata": {
    "colab": {
     "base_uri": "https://localhost:8080/"
    },
    "executionInfo": {
     "elapsed": 450,
     "status": "ok",
     "timestamp": 1701742654995,
     "user": {
      "displayName": "Prashant Nair",
      "userId": "01567311054365266478"
     },
     "user_tz": -330
    },
    "id": "eRxFK2Vzs6HP",
    "outputId": "8a709b32-a37e-409c-b92d-76c4e9b9d394"
   },
   "outputs": [],
   "source": [
    "# Benchmark Score\n",
    "print(\"Minimum Threshold score (CL) : \", scores.min())\n",
    "print(\"Suggested SL value for the given dataset is \", 1 - scores.min())"
   ]
  },
  {
   "cell_type": "code",
   "execution_count": null,
   "metadata": {
    "colab": {
     "base_uri": "https://localhost:8080/"
    },
    "executionInfo": {
     "elapsed": 427,
     "status": "ok",
     "timestamp": 1701742711398,
     "user": {
      "displayName": "Prashant Nair",
      "userId": "01567311054365266478"
     },
     "user_tz": -330
    },
    "id": "RhhOVZkrxC6_",
    "outputId": "73a8251d-230f-4ca0-be51-fe7448ad9300"
   },
   "outputs": [],
   "source": [
    "# Optimal Score\n",
    "print(\"Possible Optimal Score is \", scores.max())"
   ]
  },
  {
   "cell_type": "code",
   "execution_count": null,
   "metadata": {
    "colab": {
     "base_uri": "https://localhost:8080/"
    },
    "executionInfo": {
     "elapsed": 543,
     "status": "ok",
     "timestamp": 1701826540846,
     "user": {
      "displayName": "Prashant Nair",
      "userId": "01567311054365266478"
     },
     "user_tz": -330
    },
    "id": "MZqjt6MkwI5C",
    "outputId": "1e14c456-4be9-4410-fafb-f1472fa3b23f"
   },
   "outputs": [],
   "source": [
    "np.random.seed(1)\n",
    "np.random.randint(1,10,1)"
   ]
  },
  {
   "cell_type": "code",
   "execution_count": 8,
   "metadata": {
    "colab": {
     "base_uri": "https://localhost:8080/"
    },
    "executionInfo": {
     "elapsed": 532,
     "status": "ok",
     "timestamp": 1701743223047,
     "user": {
      "displayName": "Prashant Nair",
      "userId": "01567311054365266478"
     },
     "user_tz": -330
    },
    "id": "ycEdB34pxQpA",
    "outputId": "537e6ad0-389f-4871-ba45-9a0f8bfa29a4"
   },
   "outputs": [
    {
     "name": "stdout",
     "output_type": "stream",
     "text": [
      "Test Score 1.0 Train Score 0.9666666666666667 for Sample Split 5\n"
     ]
    }
   ],
   "source": [
    "# 3. To extract the best training sample that may provide the optimal score\n",
    "\n",
    "CL = scores.mean()\n",
    "\n",
    "#Step1: Initialize Algo\n",
    "from sklearn.linear_model import LogisticRegression\n",
    "model = LogisticRegression()\n",
    "\n",
    "#Step2: Initialize K-Fold Cross Validation\n",
    "from sklearn.model_selection import KFold\n",
    "kfold = KFold(n_splits=5, #This value MUST be equal to the cv value of cross_val_score\n",
    "              shuffle=True,\n",
    "              random_state=1) #This random state is to help me reproduce my same output\n",
    "\n",
    "#Step3: Initialize tracker to track the best sample\n",
    "\n",
    "tracker=0\n",
    "\n",
    "#here split function returns the row index location of the dataset\n",
    "for train,test in kfold.split(features):\n",
    "  tracker +=1\n",
    "\n",
    "  X_train,X_test = features[train],features[test]\n",
    "  y_train,y_test = label[train],label[test]\n",
    "\n",
    "  model.fit(X_train,y_train)\n",
    "\n",
    "  if model.score(X_test,y_test) >= CL:\n",
    "    print(\"Test Score {} Train Score {} for Sample Split {}\".format(model.score(X_test,y_test),model.score(X_train,y_train),tracker))\n",
    "\n"
   ]
  },
  {
   "cell_type": "code",
   "execution_count": 9,
   "metadata": {
    "id": "wR1xpfwXzQGp"
   },
   "outputs": [],
   "source": [
    "#Extract Best Sample\n",
    "\n",
    "#Step1: Initialize Algo\n",
    "from sklearn.linear_model import LogisticRegression\n",
    "model = LogisticRegression()\n",
    "\n",
    "#Step2: Initialize K-Fold Cross Validation\n",
    "from sklearn.model_selection import KFold\n",
    "kfold = KFold(n_splits=5, #This value MUST be equal to the cv value of cross_val_score\n",
    "              shuffle=True,\n",
    "              random_state=1) #This random state is to help me reproduce my same output\n",
    "\n",
    "#Step3: Initialize tracker to track the best sample\n",
    "\n",
    "tracker=0\n",
    "\n",
    "#here split function returns the row index location of the dataset\n",
    "for train,test in kfold.split(features):\n",
    "  tracker +=1\n",
    "  if tracker == 5:\n",
    "    X_train,X_test,y_train,y_test=features[train],features[test],label[train],label[test]\n",
    "\n"
   ]
  },
  {
   "cell_type": "code",
   "execution_count": null,
   "metadata": {
    "colab": {
     "base_uri": "https://localhost:8080/"
    },
    "executionInfo": {
     "elapsed": 503,
     "status": "ok",
     "timestamp": 1701743348055,
     "user": {
      "displayName": "Prashant Nair",
      "userId": "01567311054365266478"
     },
     "user_tz": -330
    },
    "id": "ifFg2d3WzrKh",
    "outputId": "c0d3953f-74b1-4c43-928f-c0701dc5a8ef"
   },
   "outputs": [],
   "source": [
    "X_train"
   ]
  },
  {
   "cell_type": "code",
   "execution_count": 10,
   "metadata": {
    "colab": {
     "base_uri": "https://localhost:8080/"
    },
    "executionInfo": {
     "elapsed": 2955,
     "status": "ok",
     "timestamp": 1701745802888,
     "user": {
      "displayName": "Prashant Nair",
      "userId": "01567311054365266478"
     },
     "user_tz": -330
    },
    "id": "AmF58C0l80wD",
    "outputId": "a3299fe0-823e-4806-d571-978b653b7614"
   },
   "outputs": [
    {
     "name": "stdout",
     "output_type": "stream",
     "text": [
      "                            Model      CVS    Scores\n",
      "0              LogisticRegression   cvs: 5  0.973333\n",
      "1              LogisticRegression  cvs: 10  0.973333\n",
      "2            KNeighborsClassifier   cvs: 5  0.973333\n",
      "3            KNeighborsClassifier  cvs: 10  0.966667\n",
      "4          DecisionTreeClassifier   cvs: 5  0.966667\n",
      "5          DecisionTreeClassifier  cvs: 10  0.953333\n",
      "6                             SVC   cvs: 5  0.966667\n",
      "7                             SVC  cvs: 10  0.973333\n",
      "8     Bagging(LogisticRegression)   cvs: 5  0.960000\n",
      "9     Bagging(LogisticRegression)  cvs: 10  0.960000\n",
      "10  Bagging(KNeighborsClassifier)   cvs: 5  0.966667\n",
      "11  Bagging(KNeighborsClassifier)  cvs: 10  0.966667\n",
      "the best model is: LogisticRegression with a cvs of: cvs: 5\n"
     ]
    }
   ],
   "source": [
    "from sklearn.tree import DecisionTreeClassifier\n",
    "from sklearn.svm import SVC\n",
    "from sklearn.ensemble import BaggingClassifier\n",
    "from sklearn.neighbors import KNeighborsClassifier\n",
    "\n",
    "results = []\n",
    "models = [{'model_name': 'LogisticRegression', 'instance': LogisticRegression()},{'model_name': 'KNeighborsClassifier', 'instance': KNeighborsClassifier()},\n",
    "          {'model_name': 'DecisionTreeClassifier', 'instance':DecisionTreeClassifier()},{'model_name': 'SVC', 'instance': SVC()}, {'model_name': 'Bagging(LogisticRegression)', 'instance':  BaggingClassifier(LogisticRegression())},\n",
    "          {'model_name': 'Bagging(KNeighborsClassifier)', 'instance': BaggingClassifier(KNeighborsClassifier())}, ]\n",
    "cvs = [5, 10]\n",
    "for model in models:\n",
    "    for cvs_number in cvs:\n",
    "        scores = cross_val_score(model['instance'],\n",
    "                             features,\n",
    "                             label,\n",
    "                             cv=cvs_number)\n",
    "        model_name = model['model_name']\n",
    "        cvs_str = f'cvs: {str(cvs_number)}'\n",
    "        results.append({'Model': model_name, 'CVS': cvs_str, 'Scores': scores.mean()})\n",
    "\n",
    "results_df = pd.DataFrame(results)\n",
    "\n",
    "        # print(f'model name: {model[\"model_name\"]}, with cv of {cvs_number},  scores: {scores.mean()}')\n",
    "print(results_df)\n",
    "#%%\n",
    "best_model = results_df.groupby('Model')['Scores'].mean().idxmax()\n",
    "best_cvs = results_df[results_df['Model'] == best_model]['CVS'].values[0]\n",
    "\n",
    "print(f'the best model is: {best_model} with a cvs of: {best_cvs}')"
   ]
  },
  {
   "cell_type": "code",
   "execution_count": 11,
   "metadata": {
    "colab": {
     "base_uri": "https://localhost:8080/",
     "height": 425
    },
    "executionInfo": {
     "elapsed": 525,
     "status": "ok",
     "timestamp": 1701745842300,
     "user": {
      "displayName": "Prashant Nair",
      "userId": "01567311054365266478"
     },
     "user_tz": -330
    },
    "id": "YOCSAmkbzsSg",
    "outputId": "f7a166ca-c1c7-4c87-c112-f942ec10c80c"
   },
   "outputs": [
    {
     "data": {
      "text/html": [
       "<div>\n",
       "<style scoped>\n",
       "    .dataframe tbody tr th:only-of-type {\n",
       "        vertical-align: middle;\n",
       "    }\n",
       "\n",
       "    .dataframe tbody tr th {\n",
       "        vertical-align: top;\n",
       "    }\n",
       "\n",
       "    .dataframe thead th {\n",
       "        text-align: right;\n",
       "    }\n",
       "</style>\n",
       "<table border=\"1\" class=\"dataframe\">\n",
       "  <thead>\n",
       "    <tr style=\"text-align: right;\">\n",
       "      <th></th>\n",
       "      <th>Model</th>\n",
       "      <th>CVS</th>\n",
       "      <th>Scores</th>\n",
       "    </tr>\n",
       "  </thead>\n",
       "  <tbody>\n",
       "    <tr>\n",
       "      <th>0</th>\n",
       "      <td>LogisticRegression</td>\n",
       "      <td>cvs: 5</td>\n",
       "      <td>0.973333</td>\n",
       "    </tr>\n",
       "    <tr>\n",
       "      <th>1</th>\n",
       "      <td>LogisticRegression</td>\n",
       "      <td>cvs: 10</td>\n",
       "      <td>0.973333</td>\n",
       "    </tr>\n",
       "    <tr>\n",
       "      <th>2</th>\n",
       "      <td>KNeighborsClassifier</td>\n",
       "      <td>cvs: 5</td>\n",
       "      <td>0.973333</td>\n",
       "    </tr>\n",
       "    <tr>\n",
       "      <th>3</th>\n",
       "      <td>KNeighborsClassifier</td>\n",
       "      <td>cvs: 10</td>\n",
       "      <td>0.966667</td>\n",
       "    </tr>\n",
       "    <tr>\n",
       "      <th>4</th>\n",
       "      <td>DecisionTreeClassifier</td>\n",
       "      <td>cvs: 5</td>\n",
       "      <td>0.966667</td>\n",
       "    </tr>\n",
       "    <tr>\n",
       "      <th>5</th>\n",
       "      <td>DecisionTreeClassifier</td>\n",
       "      <td>cvs: 10</td>\n",
       "      <td>0.953333</td>\n",
       "    </tr>\n",
       "    <tr>\n",
       "      <th>6</th>\n",
       "      <td>SVC</td>\n",
       "      <td>cvs: 5</td>\n",
       "      <td>0.966667</td>\n",
       "    </tr>\n",
       "    <tr>\n",
       "      <th>7</th>\n",
       "      <td>SVC</td>\n",
       "      <td>cvs: 10</td>\n",
       "      <td>0.973333</td>\n",
       "    </tr>\n",
       "    <tr>\n",
       "      <th>8</th>\n",
       "      <td>Bagging(LogisticRegression)</td>\n",
       "      <td>cvs: 5</td>\n",
       "      <td>0.960000</td>\n",
       "    </tr>\n",
       "    <tr>\n",
       "      <th>9</th>\n",
       "      <td>Bagging(LogisticRegression)</td>\n",
       "      <td>cvs: 10</td>\n",
       "      <td>0.960000</td>\n",
       "    </tr>\n",
       "    <tr>\n",
       "      <th>10</th>\n",
       "      <td>Bagging(KNeighborsClassifier)</td>\n",
       "      <td>cvs: 5</td>\n",
       "      <td>0.966667</td>\n",
       "    </tr>\n",
       "    <tr>\n",
       "      <th>11</th>\n",
       "      <td>Bagging(KNeighborsClassifier)</td>\n",
       "      <td>cvs: 10</td>\n",
       "      <td>0.966667</td>\n",
       "    </tr>\n",
       "  </tbody>\n",
       "</table>\n",
       "</div>"
      ],
      "text/plain": [
       "                            Model      CVS    Scores\n",
       "0              LogisticRegression   cvs: 5  0.973333\n",
       "1              LogisticRegression  cvs: 10  0.973333\n",
       "2            KNeighborsClassifier   cvs: 5  0.973333\n",
       "3            KNeighborsClassifier  cvs: 10  0.966667\n",
       "4          DecisionTreeClassifier   cvs: 5  0.966667\n",
       "5          DecisionTreeClassifier  cvs: 10  0.953333\n",
       "6                             SVC   cvs: 5  0.966667\n",
       "7                             SVC  cvs: 10  0.973333\n",
       "8     Bagging(LogisticRegression)   cvs: 5  0.960000\n",
       "9     Bagging(LogisticRegression)  cvs: 10  0.960000\n",
       "10  Bagging(KNeighborsClassifier)   cvs: 5  0.966667\n",
       "11  Bagging(KNeighborsClassifier)  cvs: 10  0.966667"
      ]
     },
     "execution_count": 11,
     "metadata": {},
     "output_type": "execute_result"
    }
   ],
   "source": [
    "results_df"
   ]
  },
  {
   "cell_type": "code",
   "execution_count": null,
   "metadata": {
    "id": "8f7VGUPj9NNz"
   },
   "outputs": [],
   "source": []
  },
  {
   "cell_type": "markdown",
   "metadata": {
    "id": "6BwYT6BbxoAa"
   },
   "source": [
    "## **StratifiedShuffleSplit**"
   ]
  },
  {
   "cell_type": "code",
   "execution_count": 12,
   "metadata": {
    "colab": {
     "base_uri": "https://localhost:8080/"
    },
    "executionInfo": {
     "elapsed": 436,
     "status": "ok",
     "timestamp": 1701826857964,
     "user": {
      "displayName": "Prashant Nair",
      "userId": "01567311054365266478"
     },
     "user_tz": -330
    },
    "id": "NFuIDXDgxrSZ",
    "outputId": "e31a2945-62a5-4cfd-b84c-e7a230df7e68"
   },
   "outputs": [
    {
     "name": "stdout",
     "output_type": "stream",
     "text": [
      "Test Score 1.0 Train Score 0.9666666666666667 for Sample Split 3\n"
     ]
    }
   ],
   "source": [
    "#This method allows user to set the test_size\n",
    "\n",
    "\n",
    "CL = scores.mean()\n",
    "\n",
    "#Step1: Initialize Algo\n",
    "from sklearn.linear_model import LogisticRegression\n",
    "model = LogisticRegression()\n",
    "\n",
    "#Step2: Initialize StratifiedShuffleSplit Cross Validation\n",
    "from sklearn.model_selection import StratifiedShuffleSplit\n",
    "kfold = StratifiedShuffleSplit(n_splits=5, #This value MUST be equal to the cv value of cross_val_score\n",
    "              test_size=0.2,\n",
    "              random_state=1) #This random state is to help me reproduce my same output\n",
    "\n",
    "#Step3: Initialize tracker to track the best sample\n",
    "\n",
    "tracker=0\n",
    "\n",
    "#here split function returns the row index location of the dataset\n",
    "for train,test in kfold.split(features,label):\n",
    "  tracker +=1\n",
    "\n",
    "  X_train,X_test = features[train],features[test]\n",
    "  y_train,y_test = label[train],label[test]\n",
    "\n",
    "  model.fit(X_train,y_train)\n",
    "\n",
    "  if model.score(X_test,y_test) >= CL:\n",
    "    print(\"Test Score {} Train Score {} for Sample Split {}\".format(model.score(X_test,y_test),model.score(X_train,y_train),tracker))\n",
    "\n"
   ]
  },
  {
   "cell_type": "code",
   "execution_count": 19,
   "metadata": {
    "executionInfo": {
     "elapsed": 2,
     "status": "ok",
     "timestamp": 1701826932992,
     "user": {
      "displayName": "Prashant Nair",
      "userId": "01567311054365266478"
     },
     "user_tz": -330
    },
    "id": "SHrgeb4JyZDj"
   },
   "outputs": [],
   "source": [
    "#Extract Best Sample\n",
    "\n",
    "#Step1: Initialize Algo\n",
    "from sklearn.linear_model import LogisticRegression\n",
    "model = LogisticRegression()\n",
    "\n",
    "#Step2: Initialize K-Fold Cross Validation\n",
    "from sklearn.model_selection import StratifiedShuffleSplit\n",
    "kfold = StratifiedShuffleSplit(n_splits=5, #This value MUST be equal to the cv value of cross_val_score\n",
    "              test_size=0.2,\n",
    "              random_state=1) #This random state is to help me reproduce my same output\n",
    "\n",
    "#Step3: Initialize tracker to track the best sample\n",
    "\n",
    "tracker=0\n",
    "\n",
    "#here split function returns the row index location of the dataset\n",
    "for train,test in kfold.split(features,label):\n",
    "  tracker +=1\n",
    "  if tracker == 3:\n",
    "    X_train,X_test,y_train,y_test=features[train],features[test],label[train],label[test]\n",
    "\n"
   ]
  },
  {
   "cell_type": "code",
   "execution_count": 20,
   "metadata": {
    "colab": {
     "base_uri": "https://localhost:8080/"
    },
    "executionInfo": {
     "elapsed": 2,
     "status": "ok",
     "timestamp": 1701826942591,
     "user": {
      "displayName": "Prashant Nair",
      "userId": "01567311054365266478"
     },
     "user_tz": -330
    },
    "id": "bgiARJT_yiyB",
    "outputId": "648e2416-7e26-415b-a76f-a7f0e5b5f0c6"
   },
   "outputs": [
    {
     "data": {
      "text/plain": [
       "120"
      ]
     },
     "execution_count": 20,
     "metadata": {},
     "output_type": "execute_result"
    }
   ],
   "source": [
    "len(X_train)"
   ]
  },
  {
   "cell_type": "code",
   "execution_count": 21,
   "metadata": {
    "colab": {
     "base_uri": "https://localhost:8080/"
    },
    "executionInfo": {
     "elapsed": 4,
     "status": "ok",
     "timestamp": 1701826948828,
     "user": {
      "displayName": "Prashant Nair",
      "userId": "01567311054365266478"
     },
     "user_tz": -330
    },
    "id": "l0jMy-MiylEx",
    "outputId": "180b756c-8d80-48bb-d2f7-c89aaad24f16"
   },
   "outputs": [
    {
     "data": {
      "text/plain": [
       "30"
      ]
     },
     "execution_count": 21,
     "metadata": {},
     "output_type": "execute_result"
    }
   ],
   "source": [
    "len(X_test)"
   ]
  },
  {
   "cell_type": "code",
   "execution_count": null,
   "metadata": {
    "id": "xgCOWAuMymkR"
   },
   "outputs": [],
   "source": [
    "#https://scikit-learn.org/stable/auto_examples/model_selection/plot_cv_indices.html#sphx-glr-auto-examples-model-selection-plot-cv-indices-py"
   ]
  }
 ],
 "metadata": {
  "colab": {
   "authorship_tag": "ABX9TyNSoTwC6A9+UrKnGpOzE97O",
   "provenance": []
  },
  "kernelspec": {
   "display_name": "Python 3 (ipykernel)",
   "language": "python",
   "name": "python3"
  },
  "language_info": {
   "codemirror_mode": {
    "name": "ipython",
    "version": 3
   },
   "file_extension": ".py",
   "mimetype": "text/x-python",
   "name": "python",
   "nbconvert_exporter": "python",
   "pygments_lexer": "ipython3",
   "version": "3.11.3"
  }
 },
 "nbformat": 4,
 "nbformat_minor": 1
}
