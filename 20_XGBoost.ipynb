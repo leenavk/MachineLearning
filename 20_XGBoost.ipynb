{
 "cells": [
  {
   "cell_type": "markdown",
   "metadata": {
    "id": "xIjEblKPEDIz"
   },
   "source": [
    "# **Boosting**"
   ]
  },
  {
   "cell_type": "code",
   "execution_count": 1,
   "metadata": {
    "executionInfo": {
     "elapsed": 556,
     "status": "ok",
     "timestamp": 1701999404246,
     "user": {
      "displayName": "Prashant Nair",
      "userId": "01567311054365266478"
     },
     "user_tz": -330
    },
    "id": "MZb9HTJVEGC4"
   },
   "outputs": [],
   "source": [
    "import numpy as np\n",
    "import pandas as pd"
   ]
  },
  {
   "cell_type": "code",
   "execution_count": 2,
   "metadata": {
    "executionInfo": {
     "elapsed": 439,
     "status": "ok",
     "timestamp": 1701999411757,
     "user": {
      "displayName": "Prashant Nair",
      "userId": "01567311054365266478"
     },
     "user_tz": -330
    },
    "id": "QZ2mnC2XEd9I"
   },
   "outputs": [],
   "source": [
    "data = pd.read_csv('cancer.csv')"
   ]
  },
  {
   "cell_type": "code",
   "execution_count": 3,
   "metadata": {
    "colab": {
     "base_uri": "https://localhost:8080/"
    },
    "executionInfo": {
     "elapsed": 3,
     "status": "ok",
     "timestamp": 1701999417873,
     "user": {
      "displayName": "Prashant Nair",
      "userId": "01567311054365266478"
     },
     "user_tz": -330
    },
    "id": "YO8cDES9Ef3I",
    "outputId": "2616da74-ae63-4816-c9c3-a9a27815f9d3"
   },
   "outputs": [
    {
     "name": "stdout",
     "output_type": "stream",
     "text": [
      "<class 'pandas.core.frame.DataFrame'>\n",
      "RangeIndex: 569 entries, 0 to 568\n",
      "Data columns (total 32 columns):\n",
      " #   Column             Non-Null Count  Dtype  \n",
      "---  ------             --------------  -----  \n",
      " 0   id                 569 non-null    int64  \n",
      " 1   diagnosis          569 non-null    object \n",
      " 2   radius_mean        569 non-null    float64\n",
      " 3   texture_mean       569 non-null    float64\n",
      " 4   perimeter_mean     569 non-null    float64\n",
      " 5   area_mean          569 non-null    float64\n",
      " 6   smoothness_mean    569 non-null    float64\n",
      " 7   compactness_mean   569 non-null    float64\n",
      " 8   concavity_mean     569 non-null    float64\n",
      " 9   points_mean        569 non-null    float64\n",
      " 10  symmetry_mean      569 non-null    float64\n",
      " 11  dimension_mean     569 non-null    float64\n",
      " 12  radius_se          569 non-null    float64\n",
      " 13  texture_se         569 non-null    float64\n",
      " 14  perimeter_se       569 non-null    float64\n",
      " 15  area_se            569 non-null    float64\n",
      " 16  smoothness_se      569 non-null    float64\n",
      " 17  compactness_se     569 non-null    float64\n",
      " 18  concavity_se       569 non-null    float64\n",
      " 19  points_se          569 non-null    float64\n",
      " 20  symmetry_se        569 non-null    float64\n",
      " 21  dimension_se       569 non-null    float64\n",
      " 22  radius_worst       569 non-null    float64\n",
      " 23  texture_worst      569 non-null    float64\n",
      " 24  perimeter_worst    569 non-null    float64\n",
      " 25  area_worst         569 non-null    float64\n",
      " 26  smoothness_worst   569 non-null    float64\n",
      " 27  compactness_worst  569 non-null    float64\n",
      " 28  concavity_worst    569 non-null    float64\n",
      " 29  points_worst       569 non-null    float64\n",
      " 30  symmetry_worst     569 non-null    float64\n",
      " 31  dimension_worst    569 non-null    float64\n",
      "dtypes: float64(30), int64(1), object(1)\n",
      "memory usage: 142.4+ KB\n"
     ]
    }
   ],
   "source": [
    "data.info()"
   ]
  },
  {
   "cell_type": "code",
   "execution_count": 4,
   "metadata": {
    "colab": {
     "base_uri": "https://localhost:8080/"
    },
    "executionInfo": {
     "elapsed": 2,
     "status": "ok",
     "timestamp": 1701999442381,
     "user": {
      "displayName": "Prashant Nair",
      "userId": "01567311054365266478"
     },
     "user_tz": -330
    },
    "id": "X4kjV2vLEhSp",
    "outputId": "40493dfa-faf4-4b35-923f-7e7a59cdc398"
   },
   "outputs": [
    {
     "data": {
      "text/plain": [
       "B    357\n",
       "M    212\n",
       "Name: diagnosis, dtype: int64"
      ]
     },
     "execution_count": 4,
     "metadata": {},
     "output_type": "execute_result"
    }
   ],
   "source": [
    "data.diagnosis.value_counts()"
   ]
  },
  {
   "cell_type": "code",
   "execution_count": 5,
   "metadata": {
    "executionInfo": {
     "elapsed": 2,
     "status": "ok",
     "timestamp": 1701999487219,
     "user": {
      "displayName": "Prashant Nair",
      "userId": "01567311054365266478"
     },
     "user_tz": -330
    },
    "id": "Wk1qsHIkEnVf"
   },
   "outputs": [],
   "source": [
    "features = data.iloc[:,2:32].values\n",
    "label = data.iloc[:,1].values"
   ]
  },
  {
   "cell_type": "code",
   "execution_count": 6,
   "metadata": {
    "executionInfo": {
     "elapsed": 437,
     "status": "ok",
     "timestamp": 1701999657371,
     "user": {
      "displayName": "Prashant Nair",
      "userId": "01567311054365266478"
     },
     "user_tz": -330
    },
    "id": "v9iUqCFBEySg"
   },
   "outputs": [],
   "source": [
    "# eXtreme Gradient BOOSTing\n",
    "# Expects the label column to  be represented in the form of numeric data\n",
    "# LabelEncoding\n",
    "\n",
    "\n",
    "from sklearn.preprocessing import LabelEncoder\n",
    "le = LabelEncoder()\n",
    "label = le.fit_transform(label)"
   ]
  },
  {
   "cell_type": "code",
   "execution_count": 7,
   "metadata": {
    "executionInfo": {
     "elapsed": 5,
     "status": "ok",
     "timestamp": 1701999739161,
     "user": {
      "displayName": "Prashant Nair",
      "userId": "01567311054365266478"
     },
     "user_tz": -330
    },
    "id": "OH2o_yPfFchw"
   },
   "outputs": [],
   "source": [
    "from sklearn.model_selection import train_test_split\n",
    "X_train,X_test,y_train,y_test=train_test_split(features,\n",
    "                                               label,\n",
    "                                               test_size=0.2,\n",
    "                                               random_state=1)"
   ]
  },
  {
   "cell_type": "code",
   "execution_count": 8,
   "metadata": {
    "colab": {
     "base_uri": "https://localhost:8080/",
     "height": 74
    },
    "executionInfo": {
     "elapsed": 1467,
     "status": "ok",
     "timestamp": 1702000021954,
     "user": {
      "displayName": "Prashant Nair",
      "userId": "01567311054365266478"
     },
     "user_tz": -330
    },
    "id": "rYg0ZbThFv1o",
    "outputId": "77e090be-5b3d-484c-9a48-9db367723fe9"
   },
   "outputs": [
    {
     "data": {
      "text/html": [
       "<style>#sk-container-id-1 {color: black;background-color: white;}#sk-container-id-1 pre{padding: 0;}#sk-container-id-1 div.sk-toggleable {background-color: white;}#sk-container-id-1 label.sk-toggleable__label {cursor: pointer;display: block;width: 100%;margin-bottom: 0;padding: 0.3em;box-sizing: border-box;text-align: center;}#sk-container-id-1 label.sk-toggleable__label-arrow:before {content: \"▸\";float: left;margin-right: 0.25em;color: #696969;}#sk-container-id-1 label.sk-toggleable__label-arrow:hover:before {color: black;}#sk-container-id-1 div.sk-estimator:hover label.sk-toggleable__label-arrow:before {color: black;}#sk-container-id-1 div.sk-toggleable__content {max-height: 0;max-width: 0;overflow: hidden;text-align: left;background-color: #f0f8ff;}#sk-container-id-1 div.sk-toggleable__content pre {margin: 0.2em;color: black;border-radius: 0.25em;background-color: #f0f8ff;}#sk-container-id-1 input.sk-toggleable__control:checked~div.sk-toggleable__content {max-height: 200px;max-width: 100%;overflow: auto;}#sk-container-id-1 input.sk-toggleable__control:checked~label.sk-toggleable__label-arrow:before {content: \"▾\";}#sk-container-id-1 div.sk-estimator input.sk-toggleable__control:checked~label.sk-toggleable__label {background-color: #d4ebff;}#sk-container-id-1 div.sk-label input.sk-toggleable__control:checked~label.sk-toggleable__label {background-color: #d4ebff;}#sk-container-id-1 input.sk-hidden--visually {border: 0;clip: rect(1px 1px 1px 1px);clip: rect(1px, 1px, 1px, 1px);height: 1px;margin: -1px;overflow: hidden;padding: 0;position: absolute;width: 1px;}#sk-container-id-1 div.sk-estimator {font-family: monospace;background-color: #f0f8ff;border: 1px dotted black;border-radius: 0.25em;box-sizing: border-box;margin-bottom: 0.5em;}#sk-container-id-1 div.sk-estimator:hover {background-color: #d4ebff;}#sk-container-id-1 div.sk-parallel-item::after {content: \"\";width: 100%;border-bottom: 1px solid gray;flex-grow: 1;}#sk-container-id-1 div.sk-label:hover label.sk-toggleable__label {background-color: #d4ebff;}#sk-container-id-1 div.sk-serial::before {content: \"\";position: absolute;border-left: 1px solid gray;box-sizing: border-box;top: 0;bottom: 0;left: 50%;z-index: 0;}#sk-container-id-1 div.sk-serial {display: flex;flex-direction: column;align-items: center;background-color: white;padding-right: 0.2em;padding-left: 0.2em;position: relative;}#sk-container-id-1 div.sk-item {position: relative;z-index: 1;}#sk-container-id-1 div.sk-parallel {display: flex;align-items: stretch;justify-content: center;background-color: white;position: relative;}#sk-container-id-1 div.sk-item::before, #sk-container-id-1 div.sk-parallel-item::before {content: \"\";position: absolute;border-left: 1px solid gray;box-sizing: border-box;top: 0;bottom: 0;left: 50%;z-index: -1;}#sk-container-id-1 div.sk-parallel-item {display: flex;flex-direction: column;z-index: 1;position: relative;background-color: white;}#sk-container-id-1 div.sk-parallel-item:first-child::after {align-self: flex-end;width: 50%;}#sk-container-id-1 div.sk-parallel-item:last-child::after {align-self: flex-start;width: 50%;}#sk-container-id-1 div.sk-parallel-item:only-child::after {width: 0;}#sk-container-id-1 div.sk-dashed-wrapped {border: 1px dashed gray;margin: 0 0.4em 0.5em 0.4em;box-sizing: border-box;padding-bottom: 0.4em;background-color: white;}#sk-container-id-1 div.sk-label label {font-family: monospace;font-weight: bold;display: inline-block;line-height: 1.2em;}#sk-container-id-1 div.sk-label-container {text-align: center;}#sk-container-id-1 div.sk-container {/* jupyter's `normalize.less` sets `[hidden] { display: none; }` but bootstrap.min.css set `[hidden] { display: none !important; }` so we also need the `!important` here to be able to override the default hidden behavior on the sphinx rendered scikit-learn.org. See: https://github.com/scikit-learn/scikit-learn/issues/21755 */display: inline-block !important;position: relative;}#sk-container-id-1 div.sk-text-repr-fallback {display: none;}</style><div id=\"sk-container-id-1\" class=\"sk-top-container\"><div class=\"sk-text-repr-fallback\"><pre>LogisticRegression(max_iter=10000)</pre><b>In a Jupyter environment, please rerun this cell to show the HTML representation or trust the notebook. <br />On GitHub, the HTML representation is unable to render, please try loading this page with nbviewer.org.</b></div><div class=\"sk-container\" hidden><div class=\"sk-item\"><div class=\"sk-estimator sk-toggleable\"><input class=\"sk-toggleable__control sk-hidden--visually\" id=\"sk-estimator-id-1\" type=\"checkbox\" checked><label for=\"sk-estimator-id-1\" class=\"sk-toggleable__label sk-toggleable__label-arrow\">LogisticRegression</label><div class=\"sk-toggleable__content\"><pre>LogisticRegression(max_iter=10000)</pre></div></div></div></div></div>"
      ],
      "text/plain": [
       "LogisticRegression(max_iter=10000)"
      ]
     },
     "execution_count": 8,
     "metadata": {},
     "output_type": "execute_result"
    }
   ],
   "source": [
    "from sklearn.linear_model import LogisticRegression\n",
    "model = LogisticRegression(max_iter=10000)\n",
    "model.fit(X_train,y_train)"
   ]
  },
  {
   "cell_type": "code",
   "execution_count": 9,
   "metadata": {
    "colab": {
     "base_uri": "https://localhost:8080/"
    },
    "executionInfo": {
     "elapsed": 5,
     "status": "ok",
     "timestamp": 1702000021954,
     "user": {
      "displayName": "Prashant Nair",
      "userId": "01567311054365266478"
     },
     "user_tz": -330
    },
    "id": "OdnzTtxXF9H4",
    "outputId": "5edcbfe3-0864-428c-e987-9911e45c9498"
   },
   "outputs": [
    {
     "data": {
      "text/plain": [
       "0.9560439560439561"
      ]
     },
     "execution_count": 9,
     "metadata": {},
     "output_type": "execute_result"
    }
   ],
   "source": [
    "model.score(X_train,y_train)"
   ]
  },
  {
   "cell_type": "code",
   "execution_count": 10,
   "metadata": {
    "colab": {
     "base_uri": "https://localhost:8080/"
    },
    "executionInfo": {
     "elapsed": 2,
     "status": "ok",
     "timestamp": 1702000022336,
     "user": {
      "displayName": "Prashant Nair",
      "userId": "01567311054365266478"
     },
     "user_tz": -330
    },
    "id": "xkDKIERiGQDA",
    "outputId": "b0b14f1b-b8da-4648-f7c5-70b922446bb7"
   },
   "outputs": [
    {
     "data": {
      "text/plain": [
       "0.9824561403508771"
      ]
     },
     "execution_count": 10,
     "metadata": {},
     "output_type": "execute_result"
    }
   ],
   "source": [
    "model.score(X_test,y_test)"
   ]
  },
  {
   "cell_type": "code",
   "execution_count": 11,
   "metadata": {
    "executionInfo": {
     "elapsed": 380,
     "status": "ok",
     "timestamp": 1702000370995,
     "user": {
      "displayName": "Prashant Nair",
      "userId": "01567311054365266478"
     },
     "user_tz": -330
    },
    "id": "1yAUh3E0GS6A"
   },
   "outputs": [],
   "source": [
    "# Boosting\n",
    "# XGBoost can be used for Supevised learning only (Regression and Classification)\n",
    "# XGBoost uses DecisionTree for creating weak learner in XGBClassifier and XGBRegressor\n",
    "# XGBoost uses RandomForest for creating weak learner in XGBRFClassifier and XGBRFRegressor\n",
    "# Classification: XGBClassifier | XGBRFClassifier\n",
    "# Regression: XGBRegressor | XGBRFRegressor"
   ]
  },
  {
   "cell_type": "code",
   "execution_count": 12,
   "metadata": {
    "executionInfo": {
     "elapsed": 394,
     "status": "ok",
     "timestamp": 1702000390662,
     "user": {
      "displayName": "Prashant Nair",
      "userId": "01567311054365266478"
     },
     "user_tz": -330
    },
    "id": "TtC4dDkSIKFZ"
   },
   "outputs": [],
   "source": [
    "# pip install xgboost"
   ]
  },
  {
   "cell_type": "code",
   "execution_count": 13,
   "metadata": {
    "colab": {
     "base_uri": "https://localhost:8080/"
    },
    "executionInfo": {
     "elapsed": 25162,
     "status": "ok",
     "timestamp": 1702000830268,
     "user": {
      "displayName": "Prashant Nair",
      "userId": "01567311054365266478"
     },
     "user_tz": -330
    },
    "id": "UuDeD2uoIO4h",
    "outputId": "441f216b-0992-4302-8ce1-0747e4f6ab95"
   },
   "outputs": [
    {
     "name": "stdout",
     "output_type": "stream",
     "text": [
      "Test Score : 0.956140350877193 Train Score: 1.0 RS : 1\n",
      "Test Score : 0.9824561403508771 Train Score: 1.0 RS : 2\n",
      "Test Score : 0.9649122807017544 Train Score: 1.0 RS : 3\n",
      "Test Score : 0.956140350877193 Train Score: 1.0 RS : 4\n",
      "Test Score : 0.9649122807017544 Train Score: 1.0 RS : 5\n",
      "Test Score : 0.9736842105263158 Train Score: 1.0 RS : 6\n",
      "Test Score : 0.9736842105263158 Train Score: 1.0 RS : 7\n",
      "Test Score : 0.9649122807017544 Train Score: 1.0 RS : 9\n",
      "Test Score : 0.9824561403508771 Train Score: 1.0 RS : 10\n",
      "Test Score : 0.9824561403508771 Train Score: 1.0 RS : 11\n",
      "Test Score : 0.9649122807017544 Train Score: 1.0 RS : 12\n",
      "Test Score : 0.9824561403508771 Train Score: 1.0 RS : 13\n",
      "Test Score : 0.9824561403508771 Train Score: 1.0 RS : 14\n",
      "Test Score : 0.9473684210526315 Train Score: 1.0 RS : 15\n",
      "Test Score : 0.9912280701754386 Train Score: 1.0 RS : 16\n",
      "Test Score : 0.9649122807017544 Train Score: 1.0 RS : 17\n",
      "Test Score : 0.9824561403508771 Train Score: 1.0 RS : 19\n",
      "Test Score : 0.9824561403508771 Train Score: 1.0 RS : 21\n",
      "Test Score : 0.9912280701754386 Train Score: 1.0 RS : 22\n",
      "Test Score : 0.956140350877193 Train Score: 1.0 RS : 23\n",
      "Test Score : 0.9473684210526315 Train Score: 1.0 RS : 24\n",
      "Test Score : 0.9649122807017544 Train Score: 1.0 RS : 25\n",
      "Test Score : 0.9473684210526315 Train Score: 1.0 RS : 26\n",
      "Test Score : 0.956140350877193 Train Score: 1.0 RS : 27\n",
      "Test Score : 0.9473684210526315 Train Score: 1.0 RS : 29\n",
      "Test Score : 0.956140350877193 Train Score: 1.0 RS : 30\n",
      "Test Score : 0.9736842105263158 Train Score: 1.0 RS : 31\n",
      "Test Score : 0.9649122807017544 Train Score: 1.0 RS : 32\n",
      "Test Score : 0.956140350877193 Train Score: 1.0 RS : 33\n",
      "Test Score : 0.9473684210526315 Train Score: 1.0 RS : 34\n",
      "Test Score : 0.9824561403508771 Train Score: 1.0 RS : 35\n",
      "Test Score : 0.9649122807017544 Train Score: 1.0 RS : 36\n",
      "Test Score : 0.9473684210526315 Train Score: 1.0 RS : 38\n",
      "Test Score : 0.956140350877193 Train Score: 1.0 RS : 39\n",
      "Test Score : 0.9649122807017544 Train Score: 1.0 RS : 40\n",
      "Test Score : 0.9824561403508771 Train Score: 1.0 RS : 41\n",
      "Test Score : 0.9649122807017544 Train Score: 1.0 RS : 42\n",
      "Test Score : 1.0 Train Score: 1.0 RS : 44\n",
      "Test Score : 0.9736842105263158 Train Score: 1.0 RS : 45\n",
      "Test Score : 0.9473684210526315 Train Score: 1.0 RS : 46\n",
      "Test Score : 0.9649122807017544 Train Score: 1.0 RS : 47\n",
      "Test Score : 0.956140350877193 Train Score: 1.0 RS : 48\n",
      "Test Score : 0.9736842105263158 Train Score: 1.0 RS : 49\n",
      "Test Score : 0.9824561403508771 Train Score: 1.0 RS : 50\n",
      "Test Score : 0.9912280701754386 Train Score: 1.0 RS : 51\n",
      "Test Score : 0.956140350877193 Train Score: 1.0 RS : 53\n",
      "Test Score : 0.9824561403508771 Train Score: 1.0 RS : 54\n",
      "Test Score : 0.9824561403508771 Train Score: 1.0 RS : 56\n",
      "Test Score : 0.956140350877193 Train Score: 1.0 RS : 57\n",
      "Test Score : 0.9824561403508771 Train Score: 1.0 RS : 58\n",
      "Test Score : 0.9649122807017544 Train Score: 1.0 RS : 59\n",
      "Test Score : 0.9473684210526315 Train Score: 1.0 RS : 60\n",
      "Test Score : 0.9912280701754386 Train Score: 1.0 RS : 63\n",
      "Test Score : 0.9649122807017544 Train Score: 1.0 RS : 64\n",
      "Test Score : 0.9824561403508771 Train Score: 1.0 RS : 65\n",
      "Test Score : 0.9824561403508771 Train Score: 1.0 RS : 66\n",
      "Test Score : 0.956140350877193 Train Score: 1.0 RS : 67\n",
      "Test Score : 0.9649122807017544 Train Score: 1.0 RS : 69\n",
      "Test Score : 0.9736842105263158 Train Score: 1.0 RS : 70\n",
      "Test Score : 0.9649122807017544 Train Score: 1.0 RS : 71\n",
      "Test Score : 0.9824561403508771 Train Score: 1.0 RS : 72\n",
      "Test Score : 0.9649122807017544 Train Score: 1.0 RS : 73\n",
      "Test Score : 1.0 Train Score: 1.0 RS : 74\n",
      "Test Score : 0.9736842105263158 Train Score: 1.0 RS : 75\n",
      "Test Score : 0.956140350877193 Train Score: 1.0 RS : 76\n",
      "Test Score : 0.9473684210526315 Train Score: 1.0 RS : 77\n",
      "Test Score : 0.9473684210526315 Train Score: 1.0 RS : 78\n",
      "Test Score : 0.956140350877193 Train Score: 1.0 RS : 79\n",
      "Test Score : 0.9824561403508771 Train Score: 1.0 RS : 80\n",
      "Test Score : 0.9649122807017544 Train Score: 1.0 RS : 81\n",
      "Test Score : 0.956140350877193 Train Score: 1.0 RS : 82\n",
      "Test Score : 0.9736842105263158 Train Score: 1.0 RS : 83\n",
      "Test Score : 0.956140350877193 Train Score: 1.0 RS : 84\n",
      "Test Score : 0.956140350877193 Train Score: 1.0 RS : 85\n",
      "Test Score : 0.9736842105263158 Train Score: 1.0 RS : 86\n",
      "Test Score : 0.956140350877193 Train Score: 1.0 RS : 87\n",
      "Test Score : 0.9912280701754386 Train Score: 1.0 RS : 88\n",
      "Test Score : 0.9824561403508771 Train Score: 1.0 RS : 89\n",
      "Test Score : 0.9912280701754386 Train Score: 1.0 RS : 90\n",
      "Test Score : 0.9824561403508771 Train Score: 1.0 RS : 91\n",
      "Test Score : 0.9736842105263158 Train Score: 1.0 RS : 92\n",
      "Test Score : 0.956140350877193 Train Score: 1.0 RS : 93\n",
      "Test Score : 0.9824561403508771 Train Score: 1.0 RS : 95\n",
      "Test Score : 0.9736842105263158 Train Score: 1.0 RS : 96\n",
      "Test Score : 0.9824561403508771 Train Score: 1.0 RS : 97\n",
      "Test Score : 0.9736842105263158 Train Score: 1.0 RS : 98\n",
      "Test Score : 0.9736842105263158 Train Score: 1.0 RS : 99\n",
      "Test Score : 0.956140350877193 Train Score: 1.0 RS : 100\n"
     ]
    }
   ],
   "source": [
    "CL = 0.94\n",
    "from xgboost import XGBClassifier\n",
    "for i in range(1,101):\n",
    "  X_train,X_test,y_train,y_test = train_test_split(features,label,test_size=0.2,random_state=i)\n",
    "  model=XGBClassifier()\n",
    "  model.fit(X_train,y_train)\n",
    "  trainScore = model.score(X_train,y_train)\n",
    "  testScore = model.score(X_test,y_test)\n",
    "\n",
    "  if testScore > CL:\n",
    "    print(f\"Test Score : {testScore} Train Score: {trainScore} RS : {i}\")"
   ]
  },
  {
   "cell_type": "code",
   "execution_count": 14,
   "metadata": {
    "executionInfo": {
     "elapsed": 52285,
     "status": "ok",
     "timestamp": 1702001057501,
     "user": {
      "displayName": "Prashant Nair",
      "userId": "01567311054365266478"
     },
     "user_tz": -330
    },
    "id": "0vwcR7YYI14K"
   },
   "outputs": [],
   "source": [
    "CL = 0.94\n",
    "from xgboost import XGBClassifier\n",
    "for i in range(1,101):\n",
    "  X_train,X_test,y_train,y_test = train_test_split(features,label,test_size=0.2,random_state=i)\n",
    "  model=XGBClassifier(learning_rate=0.001)\n",
    "  model.fit(X_train,y_train)\n",
    "  trainScore = model.score(X_train,y_train)\n",
    "  testScore = model.score(X_test,y_test)\n",
    "\n",
    "  if testScore > CL:\n",
    "    print(f\"Test Score : {testScore} Train Score: {trainScore} RS : {i}\")"
   ]
  },
  {
   "cell_type": "code",
   "execution_count": 15,
   "metadata": {
    "executionInfo": {
     "elapsed": 11635,
     "status": "ok",
     "timestamp": 1702001073795,
     "user": {
      "displayName": "Prashant Nair",
      "userId": "01567311054365266478"
     },
     "user_tz": -330
    },
    "id": "040jjyRwKlaT"
   },
   "outputs": [],
   "source": [
    "CL = 0.94\n",
    "from xgboost import XGBClassifier\n",
    "for i in range(1,101):\n",
    "  X_train,X_test,y_train,y_test = train_test_split(features,label,test_size=0.2,random_state=i)\n",
    "  model=XGBClassifier(max_depth=4,n_estimators=200,learning_rate=0.1)\n",
    "  model.fit(X_train,y_train)\n",
    "  trainScore = model.score(X_train,y_train)\n",
    "  testScore = model.score(X_test,y_test)\n",
    "\n",
    "  if testScore > trainScore and testScore >= CL:\n",
    "    print(f\"Test Score : {testScore} Train Score: {trainScore} RS : {i}\")"
   ]
  },
  {
   "cell_type": "code",
   "execution_count": 16,
   "metadata": {
    "colab": {
     "base_uri": "https://localhost:8080/"
    },
    "executionInfo": {
     "elapsed": 26725,
     "status": "ok",
     "timestamp": 1702000862107,
     "user": {
      "displayName": "Prashant Nair",
      "userId": "01567311054365266478"
     },
     "user_tz": -330
    },
    "id": "JDQ9EVWmJL5Q",
    "outputId": "746ab15e-38b7-45bf-c42e-f13f00281efa"
   },
   "outputs": [
    {
     "name": "stdout",
     "output_type": "stream",
     "text": [
      "Test Score : 0.9912280701754386 Train Score: 0.9912087912087912 RS : 11\n",
      "Test Score : 0.9912280701754386 Train Score: 0.9868131868131869 RS : 44\n",
      "Test Score : 0.9912280701754386 Train Score: 0.989010989010989 RS : 72\n"
     ]
    }
   ],
   "source": [
    "CL = 0.94\n",
    "from xgboost import XGBRFClassifier\n",
    "for i in range(1,101):\n",
    "  X_train,X_test,y_train,y_test = train_test_split(features,label,test_size=0.2,random_state=i)\n",
    "  model=XGBRFClassifier()\n",
    "  model.fit(X_train,y_train)\n",
    "  trainScore = model.score(X_train,y_train)\n",
    "  testScore = model.score(X_test,y_test)\n",
    "\n",
    "  if testScore > trainScore and testScore >= CL:\n",
    "    print(f\"Test Score : {testScore} Train Score: {trainScore} RS : {i}\")"
   ]
  },
  {
   "cell_type": "code",
   "execution_count": 17,
   "metadata": {
    "executionInfo": {
     "elapsed": 456,
     "status": "ok",
     "timestamp": 1702000988539,
     "user": {
      "displayName": "Prashant Nair",
      "userId": "01567311054365266478"
     },
     "user_tz": -330
    },
    "id": "0gv89Q04KenS"
   },
   "outputs": [],
   "source": [
    "from sklearn.ensemble import GradientBoostingClassifier\n",
    "from sklearn.ensemble import GradientBoostingRegressor\n",
    "\n",
    "#GradientBoostingClassifier(n_estimators=100, learning_rate=1.0)\n",
    "CL = 0.94\n",
    "\n",
    "for i in range(1,101):\n",
    "  X_train,X_test,y_train,y_test = train_test_split(features,label,test_size=0.2,random_state=i)\n",
    "  model=GradientBoostingClassifier(n_estimators=150, learning_rate=0.1)\n",
    "  model.fit(X_train,y_train)\n",
    "  trainScore = model.score(X_train,y_train)\n",
    "  testScore = model.score(X_test,y_test)\n",
    "\n",
    "  if testScore > trainScore and testScore >= CL:\n",
    "    print(f\"Test Score : {testScore} Train Score: {trainScore} RS : {i}\")"
   ]
  },
  {
   "cell_type": "code",
   "execution_count": null,
   "metadata": {
    "id": "fwm43gs1KgnQ"
   },
   "outputs": [],
   "source": []
  },
  {
   "cell_type": "code",
   "execution_count": null,
   "metadata": {},
   "outputs": [],
   "source": []
  }
 ],
 "metadata": {
  "colab": {
   "authorship_tag": "ABX9TyM8+9MJf2WOFiKoRjPil175",
   "provenance": []
  },
  "kernelspec": {
   "display_name": "Python 3 (ipykernel)",
   "language": "python",
   "name": "python3"
  },
  "language_info": {
   "codemirror_mode": {
    "name": "ipython",
    "version": 3
   },
   "file_extension": ".py",
   "mimetype": "text/x-python",
   "name": "python",
   "nbconvert_exporter": "python",
   "pygments_lexer": "ipython3",
   "version": "3.11.3"
  }
 },
 "nbformat": 4,
 "nbformat_minor": 1
}
