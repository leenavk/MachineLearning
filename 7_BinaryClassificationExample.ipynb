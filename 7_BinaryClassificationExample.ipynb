{
 "cells": [
  {
   "cell_type": "markdown",
   "metadata": {
    "id": "jo_yaOAG4E-z"
   },
   "source": [
    "# Use-case: A shopping mall owner has provided the dataset. Your job is to create a model that can predict whether the customer is a good customer or bad customer based on customer's age and customer's estimated salary(Customer Segmentation)"
   ]
  },
  {
   "cell_type": "code",
   "execution_count": 1,
   "metadata": {
    "executionInfo": {
     "elapsed": 588,
     "status": "ok",
     "timestamp": 1700100410446,
     "user": {
      "displayName": "Prashant Nair",
      "userId": "01567311054365266478"
     },
     "user_tz": -330
    },
    "id": "LIKftH-e35XG"
   },
   "outputs": [],
   "source": [
    "import numpy as np\n",
    "import pandas as pd"
   ]
  },
  {
   "cell_type": "code",
   "execution_count": 2,
   "metadata": {
    "executionInfo": {
     "elapsed": 3,
     "status": "ok",
     "timestamp": 1700100429068,
     "user": {
      "displayName": "Prashant Nair",
      "userId": "01567311054365266478"
     },
     "user_tz": -330
    },
    "id": "DwtWxLT74YSq"
   },
   "outputs": [],
   "source": [
    "socialNetworkAdsDataset = pd.read_csv('Social_Network_Ads.csv')"
   ]
  },
  {
   "cell_type": "code",
   "execution_count": 3,
   "metadata": {
    "colab": {
     "base_uri": "https://localhost:8080/"
    },
    "executionInfo": {
     "elapsed": 3,
     "status": "ok",
     "timestamp": 1700100436841,
     "user": {
      "displayName": "Prashant Nair",
      "userId": "01567311054365266478"
     },
     "user_tz": -330
    },
    "id": "HLKivSOX4dFp",
    "outputId": "068b2fb0-5565-40a8-934a-9c2c0201d95a"
   },
   "outputs": [
    {
     "name": "stdout",
     "output_type": "stream",
     "text": [
      "<class 'pandas.core.frame.DataFrame'>\n",
      "RangeIndex: 400 entries, 0 to 399\n",
      "Data columns (total 5 columns):\n",
      " #   Column           Non-Null Count  Dtype \n",
      "---  ------           --------------  ----- \n",
      " 0   User ID          400 non-null    int64 \n",
      " 1   Gender           400 non-null    object\n",
      " 2   Age              400 non-null    int64 \n",
      " 3   EstimatedSalary  400 non-null    int64 \n",
      " 4   Purchased        400 non-null    int64 \n",
      "dtypes: int64(4), object(1)\n",
      "memory usage: 15.8+ KB\n"
     ]
    }
   ],
   "source": [
    "socialNetworkAdsDataset.info()"
   ]
  },
  {
   "cell_type": "code",
   "execution_count": 4,
   "metadata": {
    "colab": {
     "base_uri": "https://localhost:8080/"
    },
    "executionInfo": {
     "elapsed": 5,
     "status": "ok",
     "timestamp": 1700100583412,
     "user": {
      "displayName": "Prashant Nair",
      "userId": "01567311054365266478"
     },
     "user_tz": -330
    },
    "id": "sewySfoC4e7p",
    "outputId": "6203d849-86ce-4f42-d340-86819cbc1962"
   },
   "outputs": [
    {
     "data": {
      "text/plain": [
       "0    257\n",
       "1    143\n",
       "Name: Purchased, dtype: int64"
      ]
     },
     "execution_count": 4,
     "metadata": {},
     "output_type": "execute_result"
    }
   ],
   "source": [
    "# Check whether the given dataset is a BALANCED or UNBALANCED DATASET\n",
    "# Decide which metric to use to judge the quality of the model\n",
    "\n",
    "socialNetworkAdsDataset.Purchased.value_counts()"
   ]
  },
  {
   "cell_type": "code",
   "execution_count": null,
   "metadata": {
    "id": "cLta3acw5Csx"
   },
   "outputs": [],
   "source": [
    "# Binary Classification\n",
    "# Unbalanced Dataset --- F1_Score"
   ]
  },
  {
   "cell_type": "code",
   "execution_count": 5,
   "metadata": {
    "executionInfo": {
     "elapsed": 343,
     "status": "ok",
     "timestamp": 1700100796929,
     "user": {
      "displayName": "Prashant Nair",
      "userId": "01567311054365266478"
     },
     "user_tz": -330
    },
    "id": "Dz3xAEwv5i9x"
   },
   "outputs": [],
   "source": [
    "# Rules for Classification as per Sklearn\n",
    "# 1. Data must be complete\n",
    "# 2. Data must be strictly numeric\n",
    "# 3. Features must be in the form of 2d np array\n",
    "# 4. Label must be in the form of 1d np array"
   ]
  },
  {
   "cell_type": "code",
   "execution_count": 6,
   "metadata": {
    "executionInfo": {
     "elapsed": 1,
     "status": "ok",
     "timestamp": 1700100849189,
     "user": {
      "displayName": "Prashant Nair",
      "userId": "01567311054365266478"
     },
     "user_tz": -330
    },
    "id": "-96BE4zz53Zy"
   },
   "outputs": [],
   "source": [
    "# Seperate data as features and label\n",
    "\n",
    "features = socialNetworkAdsDataset.iloc[:,[2,3]].values\n",
    "label = socialNetworkAdsDataset.iloc[:,4].values"
   ]
  },
  {
   "cell_type": "code",
   "execution_count": 9,
   "metadata": {
    "colab": {
     "base_uri": "https://localhost:8080/"
    },
    "executionInfo": {
     "elapsed": 1863,
     "status": "ok",
     "timestamp": 1700101072131,
     "user": {
      "displayName": "Prashant Nair",
      "userId": "01567311054365266478"
     },
     "user_tz": -330
    },
    "id": "fHa7X7mp6SuR",
    "outputId": "e64d9c94-e15e-483c-bfd1-0cfb1e80ed28"
   },
   "outputs": [
    {
     "name": "stdout",
     "output_type": "stream",
     "text": [
      "TestScore 0.7375 TrainScore 0.61875 Rs 4\n",
      "TestScore 0.7125 TrainScore 0.625 Rs 13\n",
      "TestScore 0.7 TrainScore 0.628125 Rs 17\n",
      "TestScore 0.7 TrainScore 0.628125 Rs 21\n",
      "TestScore 0.75 TrainScore 0.615625 Rs 26\n",
      "TestScore 0.7 TrainScore 0.628125 Rs 28\n",
      "TestScore 0.7 TrainScore 0.628125 Rs 39\n",
      "TestScore 0.7 TrainScore 0.628125 Rs 40\n",
      "TestScore 0.725 TrainScore 0.621875 Rs 46\n",
      "TestScore 0.7 TrainScore 0.634375 Rs 55\n",
      "TestScore 0.7 TrainScore 0.628125 Rs 60\n",
      "TestScore 0.7 TrainScore 0.628125 Rs 70\n",
      "TestScore 0.875 TrainScore 0.8375 Rs 82\n",
      "TestScore 0.7 TrainScore 0.628125 Rs 83\n",
      "TestScore 0.7 TrainScore 0.628125 Rs 93\n",
      "TestScore 0.7375 TrainScore 0.61875 Rs 94\n",
      "TestScore 0.7 TrainScore 0.628125 Rs 99\n",
      "TestScore 0.725 TrainScore 0.621875 Rs 103\n",
      "TestScore 0.75 TrainScore 0.615625 Rs 114\n",
      "TestScore 0.725 TrainScore 0.621875 Rs 125\n",
      "TestScore 0.7 TrainScore 0.628125 Rs 139\n",
      "TestScore 0.7125 TrainScore 0.63125 Rs 141\n",
      "TestScore 0.725 TrainScore 0.621875 Rs 142\n",
      "TestScore 0.7125 TrainScore 0.625 Rs 150\n",
      "TestScore 0.8875 TrainScore 0.834375 Rs 158\n",
      "TestScore 0.7125 TrainScore 0.625 Rs 161\n",
      "TestScore 0.7125 TrainScore 0.625 Rs 173\n",
      "TestScore 0.7375 TrainScore 0.61875 Rs 189\n",
      "TestScore 0.7 TrainScore 0.628125 Rs 192\n",
      "TestScore 0.7 TrainScore 0.628125 Rs 194\n",
      "TestScore 0.8875 TrainScore 0.8375 Rs 199\n",
      "TestScore 0.7 TrainScore 0.628125 Rs 211\n",
      "TestScore 0.7125 TrainScore 0.625 Rs 233\n",
      "TestScore 0.725 TrainScore 0.621875 Rs 239\n",
      "TestScore 0.725 TrainScore 0.621875 Rs 242\n",
      "TestScore 0.7 TrainScore 0.628125 Rs 247\n",
      "TestScore 0.7 TrainScore 0.628125 Rs 252\n",
      "TestScore 0.75 TrainScore 0.615625 Rs 257\n",
      "TestScore 0.7 TrainScore 0.628125 Rs 260\n",
      "TestScore 0.8625 TrainScore 0.840625 Rs 266\n",
      "TestScore 0.7 TrainScore 0.628125 Rs 276\n",
      "TestScore 0.7 TrainScore 0.628125 Rs 278\n",
      "TestScore 0.7125 TrainScore 0.625 Rs 279\n",
      "TestScore 0.7125 TrainScore 0.625 Rs 287\n"
     ]
    }
   ],
   "source": [
    "from sklearn.model_selection import train_test_split\n",
    "from sklearn.linear_model import LogisticRegression\n",
    "\n",
    "CL = 0.7\n",
    "\n",
    "for rs in range(1,301):\n",
    "  X_train,X_test,y_train,y_test=train_test_split(features,\n",
    "                                                 label,\n",
    "                                                 test_size=0.2,\n",
    "                                                 random_state=rs)\n",
    "\n",
    "  model = LogisticRegression()\n",
    "  model.fit(X_train,y_train)\n",
    "\n",
    "  trainScore = model.score(X_train,y_train)\n",
    "  testScore = model.score(X_test,y_test)\n",
    "\n",
    "  if testScore > trainScore and testScore >= CL:\n",
    "    print(\"TestScore {} TrainScore {} Rs {}\".format(testScore,trainScore,rs))"
   ]
  },
  {
   "cell_type": "code",
   "execution_count": 10,
   "metadata": {
    "executionInfo": {
     "elapsed": 388,
     "status": "ok",
     "timestamp": 1700101257463,
     "user": {
      "displayName": "Prashant Nair",
      "userId": "01567311054365266478"
     },
     "user_tz": -330
    },
    "id": "I4RV6l_U6FMg"
   },
   "outputs": [],
   "source": [
    "# Create train test Split\n",
    "X_train,X_test,y_train,y_test=train_test_split(features,\n",
    "                                                 label,\n",
    "                                                 test_size=0.2,\n",
    "                                                 random_state=158)\n",
    "# Apply Algo\n",
    "model = LogisticRegression()\n",
    "model.fit(X_train,y_train)\n",
    "\n",
    "# Evaluate\n",
    "# Since we are dealing with unbalanced dataset we will use F1 Score to compare with CL\n",
    "\n",
    "# model.score() in any classification algo of sklearn returns accuracy\n",
    "\n",
    "trainScore_Accuracy = model.score(X_train,y_train)\n",
    "testScore_Accuracy = model.score(X_test,y_test)"
   ]
  },
  {
   "cell_type": "code",
   "execution_count": 11,
   "metadata": {
    "colab": {
     "base_uri": "https://localhost:8080/"
    },
    "executionInfo": {
     "elapsed": 3,
     "status": "ok",
     "timestamp": 1700101441911,
     "user": {
      "displayName": "Prashant Nair",
      "userId": "01567311054365266478"
     },
     "user_tz": -330
    },
    "id": "vPVkIqZv7nUq",
    "outputId": "20085061-8fc5-48c9-e4c3-5f81c5a75048"
   },
   "outputs": [
    {
     "name": "stdout",
     "output_type": "stream",
     "text": [
      "              precision    recall  f1-score   support\n",
      "\n",
      "           0       0.84      0.93      0.89       257\n",
      "           1       0.85      0.69      0.76       143\n",
      "\n",
      "    accuracy                           0.84       400\n",
      "   macro avg       0.85      0.81      0.82       400\n",
      "weighted avg       0.85      0.84      0.84       400\n",
      "\n"
     ]
    }
   ],
   "source": [
    "# Use F1_Score with entire DATASET\n",
    "# Print Classification Metrics\n",
    "\n",
    "from sklearn.metrics import classification_report\n",
    "print(classification_report(label,model.predict(features)))"
   ]
  },
  {
   "cell_type": "code",
   "execution_count": 12,
   "metadata": {
    "executionInfo": {
     "elapsed": 4,
     "status": "ok",
     "timestamp": 1700101733255,
     "user": {
      "displayName": "Prashant Nair",
      "userId": "01567311054365266478"
     },
     "user_tz": -330
    },
    "id": "Jj4Lyo5_8UTA"
   },
   "outputs": [],
   "source": [
    "# Evaluating a classification model ---- Guideline \n",
    "#\n",
    "# 1. Check for Generalization (Using Accuracy irrespective of any type of dataset)\n",
    "#        testScore > trainScore and testScore >= CL\n",
    "# 2. Check with entire dataset the following metric\n",
    "#      if balanced:\n",
    "#          accuracy(entireDataset) >= CL\n",
    "#      else:\n",
    "#          f1Score(entireDataset) >= CL #incase of stat approach\n",
    "#          prPair(entireDataset) >= CL #incase of domain based approach\n",
    "\n",
    "\n",
    "# F1Score avg >= CL ----- Approve the model Else reject the model\n",
    "# 0.82 > CL --- Approve the model(0.89+0.76/2) - average value"
   ]
  },
  {
   "cell_type": "code",
   "execution_count": null,
   "metadata": {
    "id": "p_g-ga659bZ5"
   },
   "outputs": [],
   "source": [
    "# Deploy code\n",
    "# pkl model"
   ]
  }
 ],
 "metadata": {
  "colab": {
   "authorship_tag": "ABX9TyMLoKTZRFKfcHMJHZJC4eSK",
   "provenance": []
  },
  "kernelspec": {
   "display_name": "Python 3 (ipykernel)",
   "language": "python",
   "name": "python3"
  },
  "language_info": {
   "codemirror_mode": {
    "name": "ipython",
    "version": 3
   },
   "file_extension": ".py",
   "mimetype": "text/x-python",
   "name": "python",
   "nbconvert_exporter": "python",
   "pygments_lexer": "ipython3",
   "version": "3.11.3"
  }
 },
 "nbformat": 4,
 "nbformat_minor": 1
}
