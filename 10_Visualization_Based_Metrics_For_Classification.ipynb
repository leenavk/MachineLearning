{
 "cells": [
  {
   "cell_type": "code",
   "execution_count": 2,
   "metadata": {
    "id": "SmQ7bTTDcVA7"
   },
   "outputs": [],
   "source": [
    "import pandas as pd\n",
    "import numpy as np"
   ]
  },
  {
   "cell_type": "code",
   "execution_count": 3,
   "metadata": {
    "id": "K4UrQJjJchW5"
   },
   "outputs": [],
   "source": [
    "data = pd.read_csv('Social_Network_Ads.csv')"
   ]
  },
  {
   "cell_type": "code",
   "execution_count": 4,
   "metadata": {
    "colab": {
     "base_uri": "https://localhost:8080/",
     "height": 206
    },
    "id": "DUQg349lco5R",
    "outputId": "58a57091-1795-4ee7-98ae-bdb0b781fcb0"
   },
   "outputs": [
    {
     "data": {
      "text/html": [
       "<div>\n",
       "<style scoped>\n",
       "    .dataframe tbody tr th:only-of-type {\n",
       "        vertical-align: middle;\n",
       "    }\n",
       "\n",
       "    .dataframe tbody tr th {\n",
       "        vertical-align: top;\n",
       "    }\n",
       "\n",
       "    .dataframe thead th {\n",
       "        text-align: right;\n",
       "    }\n",
       "</style>\n",
       "<table border=\"1\" class=\"dataframe\">\n",
       "  <thead>\n",
       "    <tr style=\"text-align: right;\">\n",
       "      <th></th>\n",
       "      <th>User ID</th>\n",
       "      <th>Gender</th>\n",
       "      <th>Age</th>\n",
       "      <th>EstimatedSalary</th>\n",
       "      <th>Purchased</th>\n",
       "    </tr>\n",
       "  </thead>\n",
       "  <tbody>\n",
       "    <tr>\n",
       "      <th>0</th>\n",
       "      <td>15624510</td>\n",
       "      <td>Male</td>\n",
       "      <td>19</td>\n",
       "      <td>19000</td>\n",
       "      <td>0</td>\n",
       "    </tr>\n",
       "    <tr>\n",
       "      <th>1</th>\n",
       "      <td>15810944</td>\n",
       "      <td>Male</td>\n",
       "      <td>35</td>\n",
       "      <td>20000</td>\n",
       "      <td>0</td>\n",
       "    </tr>\n",
       "    <tr>\n",
       "      <th>2</th>\n",
       "      <td>15668575</td>\n",
       "      <td>Female</td>\n",
       "      <td>26</td>\n",
       "      <td>43000</td>\n",
       "      <td>0</td>\n",
       "    </tr>\n",
       "    <tr>\n",
       "      <th>3</th>\n",
       "      <td>15603246</td>\n",
       "      <td>Female</td>\n",
       "      <td>27</td>\n",
       "      <td>57000</td>\n",
       "      <td>0</td>\n",
       "    </tr>\n",
       "    <tr>\n",
       "      <th>4</th>\n",
       "      <td>15804002</td>\n",
       "      <td>Male</td>\n",
       "      <td>19</td>\n",
       "      <td>76000</td>\n",
       "      <td>0</td>\n",
       "    </tr>\n",
       "  </tbody>\n",
       "</table>\n",
       "</div>"
      ],
      "text/plain": [
       "    User ID  Gender  Age  EstimatedSalary  Purchased\n",
       "0  15624510    Male   19            19000          0\n",
       "1  15810944    Male   35            20000          0\n",
       "2  15668575  Female   26            43000          0\n",
       "3  15603246  Female   27            57000          0\n",
       "4  15804002    Male   19            76000          0"
      ]
     },
     "execution_count": 4,
     "metadata": {},
     "output_type": "execute_result"
    }
   ],
   "source": [
    "data.head()"
   ]
  },
  {
   "cell_type": "code",
   "execution_count": 5,
   "metadata": {},
   "outputs": [
    {
     "name": "stdout",
     "output_type": "stream",
     "text": [
      "<class 'pandas.core.frame.DataFrame'>\n",
      "RangeIndex: 400 entries, 0 to 399\n",
      "Data columns (total 5 columns):\n",
      " #   Column           Non-Null Count  Dtype \n",
      "---  ------           --------------  ----- \n",
      " 0   User ID          400 non-null    int64 \n",
      " 1   Gender           400 non-null    object\n",
      " 2   Age              400 non-null    int64 \n",
      " 3   EstimatedSalary  400 non-null    int64 \n",
      " 4   Purchased        400 non-null    int64 \n",
      "dtypes: int64(4), object(1)\n",
      "memory usage: 15.8+ KB\n"
     ]
    }
   ],
   "source": [
    "data.info()"
   ]
  },
  {
   "cell_type": "code",
   "execution_count": 6,
   "metadata": {
    "colab": {
     "base_uri": "https://localhost:8080/"
    },
    "id": "d2RGSUmkd7Nh",
    "outputId": "9eaa74a1-fa34-4992-9bd9-c51e4261b5b8",
    "scrolled": true
   },
   "outputs": [
    {
     "data": {
      "text/plain": [
       "0    257\n",
       "1    143\n",
       "Name: Purchased, dtype: int64"
      ]
     },
     "execution_count": 6,
     "metadata": {},
     "output_type": "execute_result"
    }
   ],
   "source": [
    "data.Purchased.value_counts()"
   ]
  },
  {
   "cell_type": "code",
   "execution_count": 7,
   "metadata": {
    "id": "f-O9kCd2crYi"
   },
   "outputs": [],
   "source": [
    "features = data.iloc[:,[2,3]].values\n",
    "label = data.iloc[:,4].values"
   ]
  },
  {
   "cell_type": "code",
   "execution_count": 8,
   "metadata": {
    "colab": {
     "base_uri": "https://localhost:8080/",
     "height": 74
    },
    "id": "Qtt8QMVrc1NI",
    "outputId": "ae391c8e-9d88-4ce5-c69f-b77b909e65ab"
   },
   "outputs": [
    {
     "data": {
      "text/html": [
       "<style>#sk-container-id-1 {color: black;background-color: white;}#sk-container-id-1 pre{padding: 0;}#sk-container-id-1 div.sk-toggleable {background-color: white;}#sk-container-id-1 label.sk-toggleable__label {cursor: pointer;display: block;width: 100%;margin-bottom: 0;padding: 0.3em;box-sizing: border-box;text-align: center;}#sk-container-id-1 label.sk-toggleable__label-arrow:before {content: \"▸\";float: left;margin-right: 0.25em;color: #696969;}#sk-container-id-1 label.sk-toggleable__label-arrow:hover:before {color: black;}#sk-container-id-1 div.sk-estimator:hover label.sk-toggleable__label-arrow:before {color: black;}#sk-container-id-1 div.sk-toggleable__content {max-height: 0;max-width: 0;overflow: hidden;text-align: left;background-color: #f0f8ff;}#sk-container-id-1 div.sk-toggleable__content pre {margin: 0.2em;color: black;border-radius: 0.25em;background-color: #f0f8ff;}#sk-container-id-1 input.sk-toggleable__control:checked~div.sk-toggleable__content {max-height: 200px;max-width: 100%;overflow: auto;}#sk-container-id-1 input.sk-toggleable__control:checked~label.sk-toggleable__label-arrow:before {content: \"▾\";}#sk-container-id-1 div.sk-estimator input.sk-toggleable__control:checked~label.sk-toggleable__label {background-color: #d4ebff;}#sk-container-id-1 div.sk-label input.sk-toggleable__control:checked~label.sk-toggleable__label {background-color: #d4ebff;}#sk-container-id-1 input.sk-hidden--visually {border: 0;clip: rect(1px 1px 1px 1px);clip: rect(1px, 1px, 1px, 1px);height: 1px;margin: -1px;overflow: hidden;padding: 0;position: absolute;width: 1px;}#sk-container-id-1 div.sk-estimator {font-family: monospace;background-color: #f0f8ff;border: 1px dotted black;border-radius: 0.25em;box-sizing: border-box;margin-bottom: 0.5em;}#sk-container-id-1 div.sk-estimator:hover {background-color: #d4ebff;}#sk-container-id-1 div.sk-parallel-item::after {content: \"\";width: 100%;border-bottom: 1px solid gray;flex-grow: 1;}#sk-container-id-1 div.sk-label:hover label.sk-toggleable__label {background-color: #d4ebff;}#sk-container-id-1 div.sk-serial::before {content: \"\";position: absolute;border-left: 1px solid gray;box-sizing: border-box;top: 0;bottom: 0;left: 50%;z-index: 0;}#sk-container-id-1 div.sk-serial {display: flex;flex-direction: column;align-items: center;background-color: white;padding-right: 0.2em;padding-left: 0.2em;position: relative;}#sk-container-id-1 div.sk-item {position: relative;z-index: 1;}#sk-container-id-1 div.sk-parallel {display: flex;align-items: stretch;justify-content: center;background-color: white;position: relative;}#sk-container-id-1 div.sk-item::before, #sk-container-id-1 div.sk-parallel-item::before {content: \"\";position: absolute;border-left: 1px solid gray;box-sizing: border-box;top: 0;bottom: 0;left: 50%;z-index: -1;}#sk-container-id-1 div.sk-parallel-item {display: flex;flex-direction: column;z-index: 1;position: relative;background-color: white;}#sk-container-id-1 div.sk-parallel-item:first-child::after {align-self: flex-end;width: 50%;}#sk-container-id-1 div.sk-parallel-item:last-child::after {align-self: flex-start;width: 50%;}#sk-container-id-1 div.sk-parallel-item:only-child::after {width: 0;}#sk-container-id-1 div.sk-dashed-wrapped {border: 1px dashed gray;margin: 0 0.4em 0.5em 0.4em;box-sizing: border-box;padding-bottom: 0.4em;background-color: white;}#sk-container-id-1 div.sk-label label {font-family: monospace;font-weight: bold;display: inline-block;line-height: 1.2em;}#sk-container-id-1 div.sk-label-container {text-align: center;}#sk-container-id-1 div.sk-container {/* jupyter's `normalize.less` sets `[hidden] { display: none; }` but bootstrap.min.css set `[hidden] { display: none !important; }` so we also need the `!important` here to be able to override the default hidden behavior on the sphinx rendered scikit-learn.org. See: https://github.com/scikit-learn/scikit-learn/issues/21755 */display: inline-block !important;position: relative;}#sk-container-id-1 div.sk-text-repr-fallback {display: none;}</style><div id=\"sk-container-id-1\" class=\"sk-top-container\"><div class=\"sk-text-repr-fallback\"><pre>LogisticRegression()</pre><b>In a Jupyter environment, please rerun this cell to show the HTML representation or trust the notebook. <br />On GitHub, the HTML representation is unable to render, please try loading this page with nbviewer.org.</b></div><div class=\"sk-container\" hidden><div class=\"sk-item\"><div class=\"sk-estimator sk-toggleable\"><input class=\"sk-toggleable__control sk-hidden--visually\" id=\"sk-estimator-id-1\" type=\"checkbox\" checked><label for=\"sk-estimator-id-1\" class=\"sk-toggleable__label sk-toggleable__label-arrow\">LogisticRegression</label><div class=\"sk-toggleable__content\"><pre>LogisticRegression()</pre></div></div></div></div></div>"
      ],
      "text/plain": [
       "LogisticRegression()"
      ]
     },
     "execution_count": 8,
     "metadata": {},
     "output_type": "execute_result"
    }
   ],
   "source": [
    "from sklearn.model_selection import train_test_split\n",
    "from sklearn.linear_model import LogisticRegression\n",
    "\n",
    "X_train,X_test,y_train,y_test = train_test_split(features,\n",
    "                                                 label,\n",
    "                                                 test_size=0.2,\n",
    "                                                 random_state=158)\n",
    "\n",
    "model=LogisticRegression()\n",
    "model.fit(X_train,y_train)"
   ]
  },
  {
   "cell_type": "code",
   "execution_count": 9,
   "metadata": {
    "colab": {
     "base_uri": "https://localhost:8080/"
    },
    "id": "hXQYLHvhdSa4",
    "outputId": "ae1a4627-98c4-4a4b-dedd-ec09f85f55dc"
   },
   "outputs": [
    {
     "name": "stdout",
     "output_type": "stream",
     "text": [
      "Testing Score is 0.8875 and Training Score is 0.834375 \n"
     ]
    }
   ],
   "source": [
    "#Evaluation\n",
    "# 1. Test for generalization\n",
    "\n",
    "print(\"Testing Score is {} and Training Score is {} \".format(model.score(X_test,y_test) , model.score(X_train,y_train)))"
   ]
  },
  {
   "cell_type": "code",
   "execution_count": 10,
   "metadata": {
    "id": "eaNgdlYXdgfw"
   },
   "outputs": [],
   "source": [
    "# 2. Use Viz to check whether to accept or reject the model\n"
   ]
  },
  {
   "cell_type": "code",
   "execution_count": 11,
   "metadata": {
    "colab": {
     "base_uri": "https://localhost:8080/"
    },
    "collapsed": true,
    "id": "X0zYIHg_eEuQ",
    "outputId": "9ad3d5c5-0b75-41b3-9778-bcbbcc1cb509"
   },
   "outputs": [
    {
     "data": {
      "text/plain": [
       "array([0, 0, 0, 1, 0, 0, 1, 0, 1, 0, 0, 0, 0, 0, 1, 0, 0, 0, 0, 0, 0, 0,\n",
       "       0, 0, 1, 0, 0, 0, 0, 0, 1, 0, 0, 1, 0, 1, 0, 1, 1, 0, 0, 1, 1, 0,\n",
       "       1, 0, 0, 1, 0, 0, 0, 0, 1, 1, 0, 0, 0, 0, 0, 1, 0, 0, 0, 0, 0, 1,\n",
       "       0, 1, 0, 1, 1, 0, 1, 1, 0, 0, 0, 1, 0, 0])"
      ]
     },
     "execution_count": 11,
     "metadata": {},
     "output_type": "execute_result"
    }
   ],
   "source": [
    "#ROC Curve\n",
    "\n",
    "model.predict(X_test)"
   ]
  },
  {
   "cell_type": "code",
   "execution_count": 12,
   "metadata": {
    "colab": {
     "base_uri": "https://localhost:8080/"
    },
    "collapsed": true,
    "id": "Yih3LooNeKro",
    "outputId": "324bdad1-8adc-4b8b-a7ad-4b8619460b1e"
   },
   "outputs": [
    {
     "data": {
      "text/plain": [
       "array([[0.52936179, 0.47063821],\n",
       "       [0.73047504, 0.26952496],\n",
       "       [0.99294756, 0.00705244],\n",
       "       [0.01820961, 0.98179039],\n",
       "       [0.98308981, 0.01691019],\n",
       "       [0.70932913, 0.29067087],\n",
       "       [0.40586153, 0.59413847],\n",
       "       [0.61896909, 0.38103091],\n",
       "       [0.42952317, 0.57047683],\n",
       "       [0.86988784, 0.13011216],\n",
       "       [0.97703232, 0.02296768],\n",
       "       [0.98930623, 0.01069377],\n",
       "       [0.97755709, 0.02244291],\n",
       "       [0.95783254, 0.04216746],\n",
       "       [0.19585242, 0.80414758],\n",
       "       [0.90769454, 0.09230546],\n",
       "       [0.99864279, 0.00135721],\n",
       "       [0.59328594, 0.40671406],\n",
       "       [0.85688509, 0.14311491],\n",
       "       [0.99581619, 0.00418381],\n",
       "       [0.72683446, 0.27316554],\n",
       "       [0.97801209, 0.02198791],\n",
       "       [0.96589618, 0.03410382],\n",
       "       [0.74269916, 0.25730084],\n",
       "       [0.08985925, 0.91014075],\n",
       "       [0.52611983, 0.47388017],\n",
       "       [0.99036258, 0.00963742],\n",
       "       [0.59454897, 0.40545103],\n",
       "       [0.98785702, 0.01214298],\n",
       "       [0.99684562, 0.00315438],\n",
       "       [0.28675344, 0.71324656],\n",
       "       [0.77623194, 0.22376806],\n",
       "       [0.7516339 , 0.2483661 ],\n",
       "       [0.07092044, 0.92907956],\n",
       "       [0.89186632, 0.10813368],\n",
       "       [0.07319065, 0.92680935],\n",
       "       [0.78783438, 0.21216562],\n",
       "       [0.21112498, 0.78887502],\n",
       "       [0.30037964, 0.69962036],\n",
       "       [0.91220627, 0.08779373],\n",
       "       [0.94110569, 0.05889431],\n",
       "       [0.02823422, 0.97176578],\n",
       "       [0.00773908, 0.99226092],\n",
       "       [0.99175493, 0.00824507],\n",
       "       [0.41030927, 0.58969073],\n",
       "       [0.61833146, 0.38166854],\n",
       "       [0.59389729, 0.40610271],\n",
       "       [0.4874611 , 0.5125389 ],\n",
       "       [0.96177887, 0.03822113],\n",
       "       [0.95980653, 0.04019347],\n",
       "       [0.73766369, 0.26233631],\n",
       "       [0.99231403, 0.00768597],\n",
       "       [0.08606512, 0.91393488],\n",
       "       [0.01839781, 0.98160219],\n",
       "       [0.96666128, 0.03333872],\n",
       "       [0.9249438 , 0.0750562 ],\n",
       "       [0.92566769, 0.07433231],\n",
       "       [0.55935287, 0.44064713],\n",
       "       [0.81257505, 0.18742495],\n",
       "       [0.02710274, 0.97289726],\n",
       "       [0.96942418, 0.03057582],\n",
       "       [0.75014878, 0.24985122],\n",
       "       [0.69559622, 0.30440378],\n",
       "       [0.9958596 , 0.0041404 ],\n",
       "       [0.93485051, 0.06514949],\n",
       "       [0.49463832, 0.50536168],\n",
       "       [0.54246948, 0.45753052],\n",
       "       [0.15361446, 0.84638554],\n",
       "       [0.66478279, 0.33521721],\n",
       "       [0.07266525, 0.92733475],\n",
       "       [0.03424923, 0.96575077],\n",
       "       [0.98870763, 0.01129237],\n",
       "       [0.17945708, 0.82054292],\n",
       "       [0.07758156, 0.92241844],\n",
       "       [0.53461913, 0.46538087],\n",
       "       [0.59328594, 0.40671406],\n",
       "       [0.95384923, 0.04615077],\n",
       "       [0.22453418, 0.77546582],\n",
       "       [0.75937216, 0.24062784],\n",
       "       [0.97845808, 0.02154192]])"
      ]
     },
     "execution_count": 12,
     "metadata": {},
     "output_type": "execute_result"
    }
   ],
   "source": [
    "model.predict_proba(X_test)"
   ]
  },
  {
   "cell_type": "markdown",
   "metadata": {
    "id": "zX1hVz_fgIBi"
   },
   "source": [
    "## **ROC is only applicable for Balanced Dataset. This code is just a demo explaining how to plot ROC curve**"
   ]
  },
  {
   "cell_type": "code",
   "execution_count": 13,
   "metadata": {
    "id": "FXgqKCOVeVCI"
   },
   "outputs": [],
   "source": [
    "#Plot ROC\n",
    "from sklearn.metrics import roc_curve\n",
    "from sklearn.metrics import roc_auc_score\n",
    "import matplotlib.pyplot as plt\n",
    "%matplotlib inline"
   ]
  },
  {
   "cell_type": "code",
   "execution_count": 23,
   "metadata": {
    "id": "ecVhkY1_fCRB",
    "scrolled": true
   },
   "outputs": [
    {
     "data": {
      "text/plain": [
       "array([0.47063821, 0.26952496, 0.00705244, 0.98179039, 0.01691019,\n",
       "       0.29067087, 0.59413847, 0.38103091, 0.57047683, 0.13011216,\n",
       "       0.02296768, 0.01069377, 0.02244291, 0.04216746, 0.80414758,\n",
       "       0.09230546, 0.00135721, 0.40671406, 0.14311491, 0.00418381,\n",
       "       0.27316554, 0.02198791, 0.03410382, 0.25730084, 0.91014075,\n",
       "       0.47388017, 0.00963742, 0.40545103, 0.01214298, 0.00315438,\n",
       "       0.71324656, 0.22376806, 0.2483661 , 0.92907956, 0.10813368,\n",
       "       0.92680935, 0.21216562, 0.78887502, 0.69962036, 0.08779373,\n",
       "       0.05889431, 0.97176578, 0.99226092, 0.00824507, 0.58969073,\n",
       "       0.38166854, 0.40610271, 0.5125389 , 0.03822113, 0.04019347,\n",
       "       0.26233631, 0.00768597, 0.91393488, 0.98160219, 0.03333872,\n",
       "       0.0750562 , 0.07433231, 0.44064713, 0.18742495, 0.97289726,\n",
       "       0.03057582, 0.24985122, 0.30440378, 0.0041404 , 0.06514949,\n",
       "       0.50536168, 0.45753052, 0.84638554, 0.33521721, 0.92733475,\n",
       "       0.96575077, 0.01129237, 0.82054292, 0.92241844, 0.46538087,\n",
       "       0.40671406, 0.04615077, 0.77546582, 0.24062784, 0.02154192])"
      ]
     },
     "execution_count": 23,
     "metadata": {},
     "output_type": "execute_result"
    }
   ],
   "source": [
    "#Step1:  Extract the prob value of 1\n",
    "probabilityValues = model.predict_proba(X_test)[:,1]\n",
    "y_pred = model.predict(X_test)\n",
    "y_pred\n",
    "probabilityValues"
   ]
  },
  {
   "cell_type": "code",
   "execution_count": 24,
   "metadata": {
    "id": "dA0sbZAxfOLg"
   },
   "outputs": [
    {
     "data": {
      "text/plain": [
       "0.8636363636363636"
      ]
     },
     "execution_count": 24,
     "metadata": {},
     "output_type": "execute_result"
    }
   ],
   "source": [
    "#Step2: Calc AUC\n",
    "auc = roc_auc_score(y_test,y_pred)\n",
    "auc"
   ]
  },
  {
   "cell_type": "code",
   "execution_count": 25,
   "metadata": {
    "colab": {
     "base_uri": "https://localhost:8080/",
     "height": 447
    },
    "id": "BUtGN7xPfVMQ",
    "outputId": "f8f86f9d-d9a2-4da7-f73c-cc394f902938"
   },
   "outputs": [
    {
     "name": "stdout",
     "output_type": "stream",
     "text": [
      "0.8636363636363636\n"
     ]
    },
    {
     "data": {
      "image/png": "[encoded data removed]",
      "text/plain": [
       "<Figure size 640x480 with 1 Axes>"
      ]
     },
     "metadata": {},
     "output_type": "display_data"
    }
   ],
   "source": [
    "#Step3: Plot Skill Line (0,0)(1,1)\n",
    "plt.plot([0,1],[0,1],linestyle=\"--\")\n",
    "\n",
    "#Step4: Plot ROC\n",
    "fpr,tpr,_ = roc_curve(y_test,probabilityValues)\n",
    "plt.plot(fpr,tpr)\n",
    "print(auc)"
   ]
  },
  {
   "cell_type": "code",
   "execution_count": null,
   "metadata": {
    "id": "-0qZawN-gVyh"
   },
   "outputs": [],
   "source": []
  },
  {
   "cell_type": "markdown",
   "metadata": {
    "id": "ay9xcP07gWhK"
   },
   "source": [
    "PR Curve"
   ]
  },
  {
   "cell_type": "code",
   "execution_count": 17,
   "metadata": {
    "colab": {
     "base_uri": "https://localhost:8080/",
     "height": 447
    },
    "id": "o8k-pBAZgXWg",
    "outputId": "ed396dbe-eac1-4be9-b690-1bba7193a9d2",
    "scrolled": true
   },
   "outputs": [
    {
     "name": "stdout",
     "output_type": "stream",
     "text": [
      "0.8522560178749757\n"
     ]
    },
    {
     "data": {
      "image/png": "[encoded data removed]",
      "text/plain": [
       "<Figure size 640x480 with 1 Axes>"
      ]
     },
     "metadata": {},
     "output_type": "display_data"
    }
   ],
   "source": [
    "#Plot PR\n",
    "from sklearn.metrics import precision_recall_curve\n",
    "from sklearn.metrics import auc\n",
    "import matplotlib.pyplot as plt\n",
    "%matplotlib inline\n",
    "\n",
    "#Step1:  Extract the prob value of 1\n",
    "probabilityValues = model.predict_proba(features)[:,1]\n",
    "\n",
    "#Step2: Calc AUC & PR values\n",
    "precision,recall,_ = precision_recall_curve(label,probabilityValues)\n",
    "aucPR = auc(recall,precision)\n",
    "\n",
    "#Step3: Plot Skill Line (0,0.5)(1,0.5)\n",
    "plt.plot([0,1],[0.5,0.5],linestyle=\"--\")\n",
    "\n",
    "#Step4: Plot PR\n",
    "plt.plot(recall,precision)\n",
    "print(aucPR)"
   ]
  },
  {
   "cell_type": "code",
   "execution_count": null,
   "metadata": {},
   "outputs": [],
   "source": []
  },
  {
   "cell_type": "code",
   "execution_count": null,
   "metadata": {},
   "outputs": [],
   "source": []
  }
 ],
 "metadata": {
  "colab": {
   "provenance": []
  },
  "kernelspec": {
   "display_name": "Python 3 (ipykernel)",
   "language": "python",
   "name": "python3"
  },
  "language_info": {
   "codemirror_mode": {
    "name": "ipython",
    "version": 3
   },
   "file_extension": ".py",
   "mimetype": "text/x-python",
   "name": "python",
   "nbconvert_exporter": "python",
   "pygments_lexer": "ipython3",
   "version": "3.11.3"
  }
 },
 "nbformat": 4,
 "nbformat_minor": 1
}
