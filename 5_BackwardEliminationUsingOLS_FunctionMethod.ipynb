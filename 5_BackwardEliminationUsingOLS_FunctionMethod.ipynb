{
 "cells": [
  {
   "cell_type": "code",
   "execution_count": 10,
   "metadata": {
    "id": "aJ9M0Au4kMN4"
   },
   "outputs": [],
   "source": [
    "import pandas as pd\n",
    "import numpy as np"
   ]
  },
  {
   "cell_type": "code",
   "execution_count": 11,
   "metadata": {},
   "outputs": [
    {
     "data": {
      "text/plain": [
       "'0.13.5'"
      ]
     },
     "execution_count": 11,
     "metadata": {},
     "output_type": "execute_result"
    }
   ],
   "source": [
    "import statsmodels\n",
    "\n",
    "statsmodels.__version__"
   ]
  },
  {
   "cell_type": "code",
   "execution_count": 18,
   "metadata": {},
   "outputs": [
    {
     "data": {
      "text/plain": [
       "'1.24.3'"
      ]
     },
     "execution_count": 18,
     "metadata": {},
     "output_type": "execute_result"
    }
   ],
   "source": [
    "import numpy\n",
    "\n",
    "numpy.__version__"
   ]
  },
  {
   "cell_type": "code",
   "execution_count": 12,
   "metadata": {
    "id": "CBosqDQQkxAE"
   },
   "outputs": [],
   "source": [
    "data= pd.read_csv('50_Startups.csv')"
   ]
  },
  {
   "cell_type": "code",
   "execution_count": 13,
   "metadata": {
    "colab": {
     "base_uri": "https://localhost:8080/"
    },
    "id": "WL0lOLuqk0Ir",
    "outputId": "372863e8-9a72-4e64-91d3-0065f94e1a89"
   },
   "outputs": [
    {
     "name": "stdout",
     "output_type": "stream",
     "text": [
      "<class 'pandas.core.frame.DataFrame'>\n",
      "RangeIndex: 50 entries, 0 to 49\n",
      "Data columns (total 5 columns):\n",
      " #   Column           Non-Null Count  Dtype  \n",
      "---  ------           --------------  -----  \n",
      " 0   R&D Spend        50 non-null     float64\n",
      " 1   Administration   50 non-null     float64\n",
      " 2   Marketing Spend  50 non-null     float64\n",
      " 3   State            50 non-null     object \n",
      " 4   Profit           50 non-null     float64\n",
      "dtypes: float64(4), object(1)\n",
      "memory usage: 2.1+ KB\n"
     ]
    }
   ],
   "source": [
    "data.info()"
   ]
  },
  {
   "cell_type": "code",
   "execution_count": 14,
   "metadata": {
    "colab": {
     "base_uri": "https://localhost:8080/"
    },
    "id": "Hgxz2w95k05M",
    "outputId": "846f1da5-c5a0-490d-943b-0c39325c7e9c"
   },
   "outputs": [
    {
     "name": "stdout",
     "output_type": "stream",
     "text": [
      "<class 'pandas.core.frame.DataFrame'>\n",
      "RangeIndex: 50 entries, 0 to 49\n",
      "Data columns (total 7 columns):\n",
      " #   Column           Non-Null Count  Dtype  \n",
      "---  ------           --------------  -----  \n",
      " 0   California       50 non-null     uint8  \n",
      " 1   Florida          50 non-null     uint8  \n",
      " 2   New York         50 non-null     uint8  \n",
      " 3   R&D Spend        50 non-null     float64\n",
      " 4   Administration   50 non-null     float64\n",
      " 5   Marketing Spend  50 non-null     float64\n",
      " 6   Profit           50 non-null     float64\n",
      "dtypes: float64(4), uint8(3)\n",
      "memory usage: 1.8 KB\n"
     ]
    }
   ],
   "source": [
    "finalDataset = pd.concat( [pd.get_dummies(data.State) , data.iloc[:,[0,1,2,4]]] , axis =1 )\n",
    "finalDataset.info()"
   ]
  },
  {
   "cell_type": "code",
   "execution_count": 15,
   "metadata": {
    "id": "9g0EASXblGI0"
   },
   "outputs": [],
   "source": [
    "#Seperate  data as features and label\n",
    "\n",
    "features = finalDataset.iloc[:,:-1]\n",
    "label = finalDataset.iloc[:,[6]]"
   ]
  },
  {
   "cell_type": "code",
   "execution_count": 16,
   "metadata": {
    "id": "PUafz5VOrlP0"
   },
   "outputs": [],
   "source": [
    "import statsmodels.api as sm\n",
    "#import statsmodels.regression.linear_model as sm\n",
    "\n",
    "def backwardEliminationUsingOLS(features, label, significance_level=0.05):\n",
    "    \"\"\"\n",
    "    Perform backward elimination using OLS.\n",
    "\n",
    "    :param features: DataFrame containing the predictor variables\n",
    "    :param label: Series containing the target variable\n",
    "    :param significance_level: The significance level to consider for removing features\n",
    "    :return: List of selected feature names\n",
    "\n",
    "    # Example usage:\n",
    "    # df = pd.read_csv('your_data.csv')  # Replace with your data source\n",
    "    # X = df.drop('target_column', axis=1)  # Replace 'target_column' with your target column name\n",
    "    # y = df['target_column']  # Replace 'target_column' with your target column name\n",
    "    # selected_features = backward_elimination(X, y)\n",
    "    # print(\"Selected features:\", selected_features)\n",
    "\n",
    "    \"\"\"\n",
    "    features = sm.add_constant(features)  # Adding a constant column for the intercept\n",
    "    original_features = features.columns.tolist()\n",
    "    while True:\n",
    "        model = sm.OLS(label, features).fit()\n",
    "        p_values = model.pvalues\n",
    "        max_p_value = p_values.max()  # Find the feature with the maximum p-value\n",
    "\n",
    "        if max_p_value > significance_level:\n",
    "            max_p_feature = p_values.idxmax()\n",
    "            features = features.drop(max_p_feature, axis=1)\n",
    "        else:\n",
    "            break\n",
    "\n",
    "    selected_features = features.columns.tolist()\n",
    "    selected_features.remove('const')  # Remove the constant column before returning\n",
    "    return selected_features\n",
    "\n"
   ]
  },
  {
   "cell_type": "code",
   "execution_count": 17,
   "metadata": {
    "colab": {
     "base_uri": "https://localhost:8080/"
    },
    "id": "b_BQc4qvsJ08",
    "outputId": "4a76ef89-5710-4109-b2ea-8f297f41d684",
    "scrolled": true
   },
   "outputs": [
    {
     "data": {
      "text/plain": [
       "['California', 'Florida', 'New York', 'R&D Spend']"
      ]
     },
     "execution_count": 17,
     "metadata": {},
     "output_type": "execute_result"
    }
   ],
   "source": [
    "backwardEliminationUsingOLS(features,label,0.05)"
   ]
  },
  {
   "cell_type": "code",
   "execution_count": null,
   "metadata": {
    "id": "QEbDdCuWsSCU"
   },
   "outputs": [],
   "source": []
  }
 ],
 "metadata": {
  "colab": {
   "provenance": []
  },
  "kernelspec": {
   "display_name": "Python 3 (ipykernel)",
   "language": "python",
   "name": "python3"
  },
  "language_info": {
   "codemirror_mode": {
    "name": "ipython",
    "version": 3
   },
   "file_extension": ".py",
   "mimetype": "text/x-python",
   "name": "python",
   "nbconvert_exporter": "python",
   "pygments_lexer": "ipython3",
   "version": "3.11.3"
  }
 },
 "nbformat": 4,
 "nbformat_minor": 1
}
